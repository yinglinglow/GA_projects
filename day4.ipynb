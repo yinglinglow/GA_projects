{
  "nbformat": 4,
  "nbformat_minor": 0,
  "metadata": {
    "colab": {
      "name": "day4.ipynb",
      "version": "0.3.2",
      "provenance": [],
      "include_colab_link": true
    },
    "kernelspec": {
      "name": "python3",
      "display_name": "Python 3"
    }
  },
  "cells": [
    {
      "cell_type": "markdown",
      "metadata": {
        "id": "view-in-github",
        "colab_type": "text"
      },
      "source": [
        "<a href=\"https://colab.research.google.com/github/yinglinglow/GA_projects/blob/master/day4.ipynb\" target=\"_parent\"><img src=\"https://colab.research.google.com/assets/colab-badge.svg\" alt=\"Open In Colab\"/></a>"
      ]
    },
    {
      "metadata": {
        "id": "_mbahJj3MorV",
        "colab_type": "code",
        "colab": {}
      },
      "cell_type": "code",
      "source": [
        "- Discover files in directory\n",
        "- Logical Operators\n",
        "- Booleans\n",
        "- Nested Code"
      ],
      "execution_count": 0,
      "outputs": []
    }
  ]
}