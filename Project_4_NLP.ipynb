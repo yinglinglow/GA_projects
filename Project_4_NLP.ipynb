{
 "cells": [
  {
   "cell_type": "markdown",
   "metadata": {},
   "source": [
    "## Business Case Overview\n",
    "\n",
    "You're working as a data scientist for a contracting firm that's rapidly expanding. Now that they have their most valuable employee (you!), they need to leverage data to win more contracts. Your firm offers technology and scientific solutions and wants to be competitive in the hiring market. Your principal has two main objectives:\n",
    "\n",
    "   1. Determine the industry factors that are most important in predicting the salary amounts for these data.\n",
    "   2. Determine the factors that distinguish job categories and titles from each other. For example, can required skills accurately predict job title?\n",
    "\n",
    "To limit the scope, your principal has suggested that you *focus on data-related job postings*, e.g. data scientist, data analyst, research scientist, business intelligence, and any others you might think of. You may also want to decrease the scope by *limiting your search to a single region.*\n",
    "\n",
    "Hint: Aggregators like [Indeed.com](https://www.indeed.com) regularly pool job postings from a variety of markets and industries. \n",
    "\n",
    "**Goal:** Scrape your own data from a job aggregation tool like Indeed.com in order to collect the data to best answer these two questions.\n",
    "\n",
    "---\n",
    "\n",
    "## Directions\n",
    "\n",
    "In this project you will be leveraging a variety of skills. The first will be to use the web-scraping and/or API techniques you've learned to collect data on data jobs from Indeed.com or another aggregator. Once you have collected and cleaned the data, you will use it to answer the two questions described above.\n",
    "\n",
    "### QUESTION 1: Factors that impact salary\n",
    "\n",
    "To predict salary you will be building either a classification or regression model, using features like the location, title, and summary of the job. If framing this as a regression problem, you will be estimating the listed salary amounts. You may instead choose to frame this as a classification problem, in which case you will create labels from these salaries (high vs. low salary, for example) according to thresholds (such as median salary).\n",
    "\n",
    "You have learned a variety of new skills and models that may be useful for this problem:\n",
    "- NLP\n",
    "- Unsupervised learning and dimensionality reduction techniques (PCA, clustering)\n",
    "- Ensemble methods and decision tree models\n",
    "- SVM models\n",
    "\n",
    "Whatever you decide to use, the most important thing is to justify your choices and interpret your results. *Communication of your process is key.* Note that most listings **DO NOT** come with salary information. You'll need to able to extrapolate or predict the expected salaries for these listings.\n",
    "\n",
    "### QUESTION 2: Factors that distinguish job category\n",
    "\n",
    "Using the job postings you scraped for part 1 (or potentially new job postings from a second round of scraping), identify features in the data related to job postings that can distinguish job titles from each other. There are a variety of interesting ways you can frame the target variable, for example:\n",
    "- What components of a job posting distinguish data scientists from other data jobs?\n",
    "- What features are important for distinguishing junior vs. senior positions?\n",
    "- Do the requirements for titles vary significantly with industry (e.g. healthcare vs. government)?\n",
    "\n",
    "You may end up making multiple classification models to tackle different questions. Be sure to clearly explain your hypotheses and framing, any feature engineering, and what your target variables are. The type of classification model you choose is up to you. Be sure to interpret your results and evaluate your models' performance.\n",
    "\n",
    "\n",
    "### BONUS PROBLEM\n",
    "\n",
    "Your boss would rather tell a client incorrectly that they would get a lower salary job than tell a client incorrectly that they would get a high salary job. Adjust one of your models to ease his mind, and explain what it is doing and any tradeoffs. Plot the ROC curve.\n",
    "\n",
    "---\n",
    "\n",
    "## Requirements\n",
    "\n",
    "1. Scrape and prepare your own data.\n",
    "\n",
    "2. **Create and compare at least two models for each section**. One of the two models should be a decision tree or ensemble model. The other can be a classifier or regression of your choosing (e.g. Ridge, logistic regression, KNN, SVM, etc).\n",
    "   - Section 1: Job Salary Trends\n",
    "   - Section 2: Job Category Factors\n",
    "\n",
    "3. Prepare a polished Jupyter Notebook with your analysis for a peer audience of data scientists. \n",
    "   - Make sure to clearly describe and label each section.\n",
    "   - Comment on your code so that others could, in theory, replicate your work.\n",
    "\n",
    "4. A brief writeup in an executive summary, written for a non-technical audience.\n",
    "   - Writeups should be at least 500-1000 words, defining any technical terms, explaining your approach, as well as any risks and limitations.\n",
    "\n",
    "#### BONUS\n",
    "\n",
    "5. Answer the salary discussion by using your model to explain the tradeoffs between detecting high vs low salary positions.\n",
    "\n",
    "6. Convert your executive summary into a public blog post of at least 500 words, in which you document your approach in a tutorial for other aspiring data scientists. Link to this in your notebook.\n",
    "\n",
    "---\n",
    "\n",
    "## Suggestions for Getting Started\n",
    "\n",
    "1. Collect data from [Indeed.com](www.indeed.com) (or another aggregator) on data-related jobs to use in predicting salary trends for your analysis.\n",
    "  - Select and parse data from *at least 1000 postings* for jobs, potentially from multiple location searches.\n",
    "2. Find out what factors most directly impact salaries (e.g. title, location, department, etc).\n",
    "  - Test, validate, and describe your models. What factors predict salary category? How do your models perform?\n",
    "3. Discover which features have the greatest importance when determining a low vs. high paying job.\n",
    "  - Your Boss is interested in what overall features hold the greatest significance.\n",
    "  - HR is interested in which SKILLS and KEY WORDS hold the greatest significance.   \n",
    "4. Author an executive summary that details the highlights of your analysis for a non-technical audience.\n",
    "5. If tackling the bonus question, try framing the salary problem as a classification problem detecting low vs. high salary positions.\n",
    "\n",
    "---\n",
    "\n",
    "## Useful Resources\n",
    "\n",
    "- Scraping is one of the most fun, useful and interesting skills out there. Don’t lose out by copying someone else's code!\n",
    "- [Here is some advice on how to write for a non-technical audience](http://programmers.stackexchange.com/questions/11523/explaining-technical-things-to-non-technical-people)\n",
    "- [Documentation for BeautifulSoup can be found here](http://www.crummy.com/software/BeautifulSoup/).\n",
    "\n",
    "---\n",
    "\n",
    "### Project Feedback + Evaluation\n",
    "\n",
    "For all projects, students will be evaluated on a simple 3 point scale (0, 1, or 2). Instructors will use this rubric when scoring student performance on each of the core project **requirements:** \n",
    "\n",
    "Score | Expectations\n",
    "----- | ------------\n",
    "**0** | _Does not meet expectations. Try again._\n",
    "**1** | _Meets expectations. Good job._\n",
    "**2** | _Surpasses expectations. Brilliant!_\n",
    "\n",
    "[For more information on how we grade our DSI projects, see our project grading walkthrough.](https://git.generalassemb.ly/dsi-projects/readme/blob/master/README.md)\n"
   ]
  },
  {
   "cell_type": "code",
   "execution_count": 1,
   "metadata": {
    "collapsed": true
   },
   "outputs": [],
   "source": [
    "import pickle\n",
    "import pandas as pd\n",
    "import seaborn as sns\n",
    "import matplotlib.pyplot as plt\n",
    "import numpy as np\n",
    "import unicodedata\n",
    "import re\n",
    "%matplotlib inline"
   ]
  },
  {
   "cell_type": "markdown",
   "metadata": {
    "collapsed": true
   },
   "source": [
    "__Import pickled file containing all jobs scraped from websites__"
   ]
  },
  {
   "cell_type": "code",
   "execution_count": 2,
   "metadata": {},
   "outputs": [],
   "source": [
    "all_jobs = pd.read_pickle('all_jobs')"
   ]
  },
  {
   "cell_type": "code",
   "execution_count": 3,
   "metadata": {},
   "outputs": [
    {
     "data": {
      "text/plain": [
       "(3235, 20)"
      ]
     },
     "execution_count": 3,
     "metadata": {},
     "output_type": "execute_result"
    }
   ],
   "source": [
    "all_jobs.shape"
   ]
  },
  {
   "cell_type": "code",
   "execution_count": 4,
   "metadata": {},
   "outputs": [
    {
     "data": {
      "text/html": [
       "<div>\n",
       "<style scoped>\n",
       "    .dataframe tbody tr th:only-of-type {\n",
       "        vertical-align: middle;\n",
       "    }\n",
       "\n",
       "    .dataframe tbody tr th {\n",
       "        vertical-align: top;\n",
       "    }\n",
       "\n",
       "    .dataframe thead th {\n",
       "        text-align: right;\n",
       "    }\n",
       "</style>\n",
       "<table border=\"1\" class=\"dataframe\">\n",
       "  <thead>\n",
       "    <tr style=\"text-align: right;\">\n",
       "      <th></th>\n",
       "      <th>company</th>\n",
       "      <th>country</th>\n",
       "      <th>job_title</th>\n",
       "      <th>description</th>\n",
       "      <th>required_skills</th>\n",
       "      <th>date_created</th>\n",
       "      <th>equity</th>\n",
       "      <th>job_category</th>\n",
       "      <th>job_type</th>\n",
       "      <th>last_updated</th>\n",
       "      <th>vacancies</th>\n",
       "      <th>salary_range</th>\n",
       "      <th>years_of_experience_required</th>\n",
       "      <th>currency</th>\n",
       "      <th>lower</th>\n",
       "      <th>higher</th>\n",
       "      <th>rate</th>\n",
       "      <th>lower_sgd</th>\n",
       "      <th>higher_sgd</th>\n",
       "      <th>index</th>\n",
       "    </tr>\n",
       "  </thead>\n",
       "  <tbody>\n",
       "    <tr>\n",
       "      <th>0</th>\n",
       "      <td>Tech in Asia</td>\n",
       "      <td>Singapore</td>\n",
       "      <td>Data Scientist</td>\n",
       "      <td>Tech in Asia (YC W15) is a media, events, and ...</td>\n",
       "      <td>Amazon Web Services (AWS) Data Visualization S...</td>\n",
       "      <td>28 Jan 2018</td>\n",
       "      <td>Yes</td>\n",
       "      <td>Data &amp; Analytics</td>\n",
       "      <td>Full-time</td>\n",
       "      <td>28 Jan 2018</td>\n",
       "      <td>1.0</td>\n",
       "      <td>SGD 4,500 - 6,000</td>\n",
       "      <td>1 – 4 years</td>\n",
       "      <td>SGD</td>\n",
       "      <td>4500</td>\n",
       "      <td>6000.0</td>\n",
       "      <td>1.000000</td>\n",
       "      <td>4500</td>\n",
       "      <td>6000.0</td>\n",
       "      <td>NaN</td>\n",
       "    </tr>\n",
       "    <tr>\n",
       "      <th>1</th>\n",
       "      <td>F Corporation</td>\n",
       "      <td>Indonesia</td>\n",
       "      <td>Data Scientist</td>\n",
       "      <td>Description\\n\\nThe focus of our data science t...</td>\n",
       "      <td>What is it like working at F Corporation?Worki...</td>\n",
       "      <td>26 Jan 2018</td>\n",
       "      <td>NaN</td>\n",
       "      <td>Data &amp; Analytics</td>\n",
       "      <td>Full-time</td>\n",
       "      <td>26 Jan 2018</td>\n",
       "      <td>1.0</td>\n",
       "      <td>IDR 5,000,000 - 9,000,000</td>\n",
       "      <td>1 – 4 years</td>\n",
       "      <td>IDR</td>\n",
       "      <td>5e+06</td>\n",
       "      <td>9000000.0</td>\n",
       "      <td>0.000098</td>\n",
       "      <td>490</td>\n",
       "      <td>882.0</td>\n",
       "      <td>NaN</td>\n",
       "    </tr>\n",
       "    <tr>\n",
       "      <th>2</th>\n",
       "      <td>Fabelio</td>\n",
       "      <td>Indonesia</td>\n",
       "      <td>Data Scientist</td>\n",
       "      <td>Job Description:\\nTransform large, complex dat...</td>\n",
       "      <td>Python Hadoop SQL</td>\n",
       "      <td>25 Jan 2018</td>\n",
       "      <td>NaN</td>\n",
       "      <td>Data &amp; Analytics</td>\n",
       "      <td>Full-time</td>\n",
       "      <td>25 Jan 2018</td>\n",
       "      <td>1.0</td>\n",
       "      <td>IDR 9,000,000 - 12,000,000</td>\n",
       "      <td>1 – 4 years</td>\n",
       "      <td>IDR</td>\n",
       "      <td>9e+06</td>\n",
       "      <td>12000000.0</td>\n",
       "      <td>0.000098</td>\n",
       "      <td>882</td>\n",
       "      <td>1176.0</td>\n",
       "      <td>NaN</td>\n",
       "    </tr>\n",
       "    <tr>\n",
       "      <th>3</th>\n",
       "      <td>Unisoft Infotech</td>\n",
       "      <td>Singapore</td>\n",
       "      <td>Data Scientist</td>\n",
       "      <td>Data Scientist\\nThe position is for one of our...</td>\n",
       "      <td>Python Machine Learning R Artificial Intellige...</td>\n",
       "      <td>24 Jan 2018</td>\n",
       "      <td>NaN</td>\n",
       "      <td>Data &amp; Analytics</td>\n",
       "      <td>Full-time</td>\n",
       "      <td>24 Jan 2018</td>\n",
       "      <td>2.0</td>\n",
       "      <td>SGD 3,000 - 9,000</td>\n",
       "      <td>4 – 7 years</td>\n",
       "      <td>SGD</td>\n",
       "      <td>3000</td>\n",
       "      <td>9000.0</td>\n",
       "      <td>1.000000</td>\n",
       "      <td>3000</td>\n",
       "      <td>9000.0</td>\n",
       "      <td>NaN</td>\n",
       "    </tr>\n",
       "    <tr>\n",
       "      <th>4</th>\n",
       "      <td>Housal</td>\n",
       "      <td>Philippines</td>\n",
       "      <td>Data Scientist</td>\n",
       "      <td>Job Description\\nWe are looking for a Data Sci...</td>\n",
       "      <td>Data Analysis Data Science Hadoop SQL Python T...</td>\n",
       "      <td>23 Jan 2018</td>\n",
       "      <td>Yes</td>\n",
       "      <td>Data &amp; Analytics</td>\n",
       "      <td>Full-time</td>\n",
       "      <td>23 Jan 2018</td>\n",
       "      <td>1.0</td>\n",
       "      <td>PHP 60,000 - 120,000</td>\n",
       "      <td>1 – 4 years</td>\n",
       "      <td>PHP</td>\n",
       "      <td>60000</td>\n",
       "      <td>120000.0</td>\n",
       "      <td>0.025000</td>\n",
       "      <td>1500</td>\n",
       "      <td>3000.0</td>\n",
       "      <td>NaN</td>\n",
       "    </tr>\n",
       "  </tbody>\n",
       "</table>\n",
       "</div>"
      ],
      "text/plain": [
       "            company      country       job_title  \\\n",
       "0      Tech in Asia    Singapore  Data Scientist   \n",
       "1     F Corporation    Indonesia  Data Scientist   \n",
       "2           Fabelio    Indonesia  Data Scientist   \n",
       "3  Unisoft Infotech    Singapore  Data Scientist   \n",
       "4            Housal  Philippines  Data Scientist   \n",
       "\n",
       "                                         description  \\\n",
       "0  Tech in Asia (YC W15) is a media, events, and ...   \n",
       "1  Description\\n\\nThe focus of our data science t...   \n",
       "2  Job Description:\\nTransform large, complex dat...   \n",
       "3  Data Scientist\\nThe position is for one of our...   \n",
       "4  Job Description\\nWe are looking for a Data Sci...   \n",
       "\n",
       "                                     required_skills date_created equity  \\\n",
       "0  Amazon Web Services (AWS) Data Visualization S...  28 Jan 2018    Yes   \n",
       "1  What is it like working at F Corporation?Worki...  26 Jan 2018    NaN   \n",
       "2                                 Python Hadoop SQL   25 Jan 2018    NaN   \n",
       "3  Python Machine Learning R Artificial Intellige...  24 Jan 2018    NaN   \n",
       "4  Data Analysis Data Science Hadoop SQL Python T...  23 Jan 2018    Yes   \n",
       "\n",
       "       job_category   job_type last_updated  vacancies  \\\n",
       "0  Data & Analytics  Full-time  28 Jan 2018        1.0   \n",
       "1  Data & Analytics  Full-time  26 Jan 2018        1.0   \n",
       "2  Data & Analytics  Full-time  25 Jan 2018        1.0   \n",
       "3  Data & Analytics  Full-time  24 Jan 2018        2.0   \n",
       "4  Data & Analytics  Full-time  23 Jan 2018        1.0   \n",
       "\n",
       "                 salary_range years_of_experience_required currency  lower  \\\n",
       "0           SGD 4,500 - 6,000                  1 – 4 years      SGD   4500   \n",
       "1   IDR 5,000,000 - 9,000,000                  1 – 4 years      IDR  5e+06   \n",
       "2  IDR 9,000,000 - 12,000,000                  1 – 4 years      IDR  9e+06   \n",
       "3           SGD 3,000 - 9,000                  4 – 7 years      SGD   3000   \n",
       "4        PHP 60,000 - 120,000                  1 – 4 years      PHP  60000   \n",
       "\n",
       "       higher      rate lower_sgd  higher_sgd  index  \n",
       "0      6000.0  1.000000      4500      6000.0    NaN  \n",
       "1   9000000.0  0.000098       490       882.0    NaN  \n",
       "2  12000000.0  0.000098       882      1176.0    NaN  \n",
       "3      9000.0  1.000000      3000      9000.0    NaN  \n",
       "4    120000.0  0.025000      1500      3000.0    NaN  "
      ]
     },
     "execution_count": 4,
     "metadata": {},
     "output_type": "execute_result"
    }
   ],
   "source": [
    "all_jobs.head()"
   ]
  },
  {
   "cell_type": "markdown",
   "metadata": {},
   "source": [
    "__Basic cleaning - rename columns and drop duplicates__"
   ]
  },
  {
   "cell_type": "code",
   "execution_count": 5,
   "metadata": {
    "collapsed": true
   },
   "outputs": [],
   "source": [
    "# clean country column - Hong to Hong Kong\n",
    "all_jobs['country'] = all_jobs['country'].map(lambda x: x.replace('Hong', 'Hong Kong') if x =='Hong' else x)"
   ]
  },
  {
   "cell_type": "code",
   "execution_count": 6,
   "metadata": {
    "collapsed": true
   },
   "outputs": [],
   "source": [
    "# drop duplicates\n",
    "uniquetitle, duplicate_index = [],[]\n",
    "for (i,x) in enumerate(all_jobs['job_title']):\n",
    "\n",
    "    if len(x) > 40: # if job desc is too long and repeats, likely that it is a duplicate.\n",
    "        if x in set(uniquetitle):\n",
    "            duplicate_index.append(i)\n",
    "        elif x not in set(uniquetitle):\n",
    "            uniquetitle.append(x)\n",
    "all_jobs.drop(index=duplicate_index, axis=0, inplace=True)"
   ]
  },
  {
   "cell_type": "code",
   "execution_count": 7,
   "metadata": {},
   "outputs": [
    {
     "data": {
      "text/plain": [
       "(3088, 20)"
      ]
     },
     "execution_count": 7,
     "metadata": {},
     "output_type": "execute_result"
    }
   ],
   "source": [
    "all_jobs.shape"
   ]
  },
  {
   "cell_type": "markdown",
   "metadata": {},
   "source": [
    "__Clean description column__"
   ]
  },
  {
   "cell_type": "code",
   "execution_count": 8,
   "metadata": {
    "collapsed": true
   },
   "outputs": [],
   "source": [
    "# fill nas with empty cells to avoid errors from np.nan as a float\n",
    "all_jobs['description'].fillna('', inplace=True)"
   ]
  },
  {
   "cell_type": "code",
   "execution_count": 9,
   "metadata": {
    "collapsed": true
   },
   "outputs": [],
   "source": [
    "# combine JD with required skills into 1 column\n",
    "all_jobs['full_description'] = all_jobs['description'] + ' ' + all_jobs['required_skills']"
   ]
  },
  {
   "cell_type": "code",
   "execution_count": 10,
   "metadata": {
    "collapsed": true
   },
   "outputs": [],
   "source": [
    "# function to clean unicode from description\n",
    "def clean_unicode(unicode_str):\n",
    "    return unicodedata.normalize(\"NFKD\", unicode_str)\n",
    "\n",
    "all_jobs['full_description'] = all_jobs['full_description'].str.replace('\\n',' ').apply(clean_unicode)"
   ]
  },
  {
   "cell_type": "code",
   "execution_count": 11,
   "metadata": {
    "scrolled": true
   },
   "outputs": [
    {
     "data": {
      "text/plain": [
       "\"Tech in Asia (YC W15) is a media, events, and jobs platform for Asia’s tech communities. At Tech in Asia, you can keep abreast of the latest news, share your thoughts, and find talent or jobs best suited to your needs. In this role, you will be building jobs recommendation models. The purpose of this data model is to recommend and help our Community Recruiting team scout for talent faster. You'll be required to be an end-to-end data scientist. The role includes understanding business needs, developing a proof-of-concept, data collection, and productionizing your data product. Requirements: Minimum 2 years of experience analytics and data science; experience in fields of computer science, engineering, science, mathematics, statistics, psychology, economics and linguistics are desirableDemonstrated ability and aptitude to learn new things and contribute ideasAbility to work independently to solve problems and develop solutionsExperience working with business users to understand the business problems and employ a systematic methodology to develop data solutions and collaborate with other engineering functions to deliver Experience with natural language processing, graph theory and machine learning algorithms available on libraries such as scikit-learn and Spark MLlibExperience with experimenting on different modelling techniques (supervised and unsupervised learning) and develop data visualisation for data storiesExperience working with databases such as PostgreSQL and MySQL. Experience with distributed systems such as Hadoop, Spark, Redshift will be a plusGood working knowledge of software development life-cycleExperience with deployment of production-grade analytics pipelines will be a plusExperience building web applications, microservices and cloud services will be a plus FYR, you can read how we are building our data infrastructure here. Amazon Web Services (AWS) Data Visualization Scala Python Analytics & Reporting Data Science Natural Language Processing (NLP) SQL Linux A/B Testing Data Analysis Data Mining \""
      ]
     },
     "execution_count": 11,
     "metadata": {},
     "output_type": "execute_result"
    }
   ],
   "source": [
    "all_jobs['full_description'][0]"
   ]
  },
  {
   "cell_type": "markdown",
   "metadata": {},
   "source": [
    "__Clean years of experience column__"
   ]
  },
  {
   "cell_type": "code",
   "execution_count": 12,
   "metadata": {
    "collapsed": true
   },
   "outputs": [],
   "source": [
    "# function to extract years\n",
    "def replace_years(x):\n",
    "    if isinstance(x,str):\n",
    "        y = x.lower()\n",
    "    else:\n",
    "        return x\n",
    "    \n",
    "    if y.find('min') > -1:\n",
    "        return(int(re.findall(r'([0-9]+)',y)[0]))\n",
    "    elif y.find('more') > -1:\n",
    "        return(int(re.findall(r'([0-9]+)',y)[0]) + 1)\n",
    "    elif y.find('less') > -1:\n",
    "        return 0\n",
    "    elif y.find('–') > -1:\n",
    "        ya = re.findall(r'([0-9]+)',y)\n",
    "        return (float(ya[1])-float(ya[0]))/2.\n",
    "    elif y=='entry level':\n",
    "        return 0\n",
    "    elif y=='junior executive':\n",
    "        return 1\n",
    "    elif y=='manager':\n",
    "        return 3\n",
    "    else:\n",
    "        return np.nan"
   ]
  },
  {
   "cell_type": "code",
   "execution_count": 13,
   "metadata": {
    "collapsed": true
   },
   "outputs": [],
   "source": [
    "all_jobs['years_of_experience_required'] = all_jobs['years_of_experience_required'].apply(replace_years)\n",
    "\n",
    "# fill na with mean\n",
    "all_jobs['yrs_exp'] = all_jobs['years_of_experience_required'].fillna(all_jobs['years_of_experience_required'].mean())"
   ]
  },
  {
   "cell_type": "code",
   "execution_count": 14,
   "metadata": {
    "collapsed": true
   },
   "outputs": [],
   "source": [
    "all_jobs.to_pickle('all_jobs_clean.pkl')"
   ]
  },
  {
   "cell_type": "markdown",
   "metadata": {},
   "source": [
    "### Q1 Factors that predict salary (linear regression)"
   ]
  },
  {
   "cell_type": "markdown",
   "metadata": {},
   "source": [
    "__1.1 - Clean up salary column__"
   ]
  },
  {
   "cell_type": "code",
   "execution_count": 15,
   "metadata": {
    "collapsed": true
   },
   "outputs": [],
   "source": [
    "# first analyse only those with salary information\n",
    "all_jobs.dropna(subset=['salary_range'], inplace=True)"
   ]
  },
  {
   "cell_type": "code",
   "execution_count": 16,
   "metadata": {},
   "outputs": [
    {
     "data": {
      "text/plain": [
       "(488, 22)"
      ]
     },
     "execution_count": 16,
     "metadata": {},
     "output_type": "execute_result"
    }
   ],
   "source": [
    "all_jobs.shape"
   ]
  },
  {
   "cell_type": "code",
   "execution_count": 17,
   "metadata": {
    "collapsed": true
   },
   "outputs": [],
   "source": [
    "# fill all na in lower_sgd with corresponding value in higher_sgd, and vice versa\n",
    "all_jobs['lower_sgd'] = all_jobs['lower_sgd'].fillna(all_jobs['salary_range']).astype(float)\n",
    "all_jobs['higher_sgd'] = all_jobs['higher_sgd'].fillna(all_jobs['salary_range']).astype(float)\n",
    "\n",
    "# create new average salary column\n",
    "all_jobs['mean_salary_sgd'] = (all_jobs['lower_sgd'] + all_jobs['higher_sgd'])/2"
   ]
  },
  {
   "cell_type": "markdown",
   "metadata": {},
   "source": [
    "__1.2 - Handle outliers in salary__"
   ]
  },
  {
   "cell_type": "code",
   "execution_count": 18,
   "metadata": {
    "collapsed": true
   },
   "outputs": [],
   "source": [
    "# check for outliers across all countries - per month salary logically should not be less than $50 SGD\n",
    "# The average wage per person in Vietnam is around 3.2 million VND ($150) a month\n",
    "outliers = all_jobs[all_jobs['mean_salary_sgd'] < 50]\n",
    "\n",
    "# first outlier is real - edit salary to match\n",
    "condition = all_jobs['job_title'] == outliers['job_title'].iloc[0]\n",
    "all_jobs['mean_salary_sgd'] = np.where(condition, 2800, all_jobs['mean_salary_sgd'])\n",
    "\n",
    "# remove remaining monthly salaries less than 50sgd as irrelevant jobs\n",
    "all_jobs = all_jobs[all_jobs['mean_salary_sgd'] > 50]"
   ]
  },
  {
   "cell_type": "code",
   "execution_count": 19,
   "metadata": {
    "collapsed": true,
    "scrolled": true
   },
   "outputs": [],
   "source": [
    "# check for outliers in singapore (more knowledge to clean separately)\n",
    "# per month salary logically should not be less than $1000 SGD (excluding internships)\n",
    "outliers = all_jobs[(all_jobs['mean_salary_sgd'] < 1000) & (all_jobs['country'] == 'Singapore') & (all_jobs['job_type'] != 'Internship')]\n",
    "\n",
    "# second outlier is real - edit salary to match\n",
    "condition = all_jobs['job_title'] == outliers['job_title'].iloc[1]\n",
    "all_jobs['mean_salary_sgd'] = np.where(condition, 3500, all_jobs['mean_salary_sgd'])\n",
    "\n",
    "# fourth outlier is real - edit salary to match\n",
    "condition = all_jobs['job_title'] == outliers['job_title'].iloc[3]\n",
    "all_jobs['mean_salary_sgd'] = np.where(condition, 3400, all_jobs['mean_salary_sgd'])\n",
    "\n",
    "# fourth outlier is real - edit salary to match\n",
    "condition = all_jobs['job_title'] == outliers['job_title'].iloc[4]\n",
    "all_jobs['mean_salary_sgd'] = np.where(condition, 3000, all_jobs['mean_salary_sgd'])\n",
    "\n",
    "# remove remaining monthly salaries less than 1000SGD as irrelevant jobs\n",
    "all_jobs = all_jobs[all_jobs['mean_salary_sgd'] > 1000]"
   ]
  },
  {
   "cell_type": "code",
   "execution_count": 20,
   "metadata": {},
   "outputs": [
    {
     "data": {
      "text/html": [
       "<div>\n",
       "<style scoped>\n",
       "    .dataframe tbody tr th:only-of-type {\n",
       "        vertical-align: middle;\n",
       "    }\n",
       "\n",
       "    .dataframe tbody tr th {\n",
       "        vertical-align: top;\n",
       "    }\n",
       "\n",
       "    .dataframe thead th {\n",
       "        text-align: right;\n",
       "    }\n",
       "</style>\n",
       "<table border=\"1\" class=\"dataframe\">\n",
       "  <thead>\n",
       "    <tr style=\"text-align: right;\">\n",
       "      <th></th>\n",
       "      <th>company</th>\n",
       "      <th>country</th>\n",
       "      <th>job_title</th>\n",
       "      <th>description</th>\n",
       "      <th>required_skills</th>\n",
       "      <th>date_created</th>\n",
       "      <th>equity</th>\n",
       "      <th>job_category</th>\n",
       "      <th>job_type</th>\n",
       "      <th>last_updated</th>\n",
       "      <th>...</th>\n",
       "      <th>currency</th>\n",
       "      <th>lower</th>\n",
       "      <th>higher</th>\n",
       "      <th>rate</th>\n",
       "      <th>lower_sgd</th>\n",
       "      <th>higher_sgd</th>\n",
       "      <th>index</th>\n",
       "      <th>full_description</th>\n",
       "      <th>yrs_exp</th>\n",
       "      <th>mean_salary_sgd</th>\n",
       "    </tr>\n",
       "  </thead>\n",
       "  <tbody>\n",
       "    <tr>\n",
       "      <th>135</th>\n",
       "      <td>SmartBuild Asia</td>\n",
       "      <td>Malaysia</td>\n",
       "      <td>Senior Python Developer</td>\n",
       "      <td>Job Requirements:\\nDeep knowledge in a program...</td>\n",
       "      <td>Python Data Analysis Data Science</td>\n",
       "      <td>18 Jan 2018</td>\n",
       "      <td>NaN</td>\n",
       "      <td>Data &amp; Analytics</td>\n",
       "      <td>Full-time</td>\n",
       "      <td>18 Jan 2018</td>\n",
       "      <td>...</td>\n",
       "      <td>MYR</td>\n",
       "      <td>70000</td>\n",
       "      <td>70000.0</td>\n",
       "      <td>0.34</td>\n",
       "      <td>23800.0</td>\n",
       "      <td>23800.0</td>\n",
       "      <td>NaN</td>\n",
       "      <td>Job Requirements: Deep knowledge in a programm...</td>\n",
       "      <td>1.5</td>\n",
       "      <td>23800.0</td>\n",
       "    </tr>\n",
       "    <tr>\n",
       "      <th>1219</th>\n",
       "      <td>CVista HR Consulting Pte Ltd</td>\n",
       "      <td>Singapore</td>\n",
       "      <td>Regional Pricing Analyst (Logistics / Japanese...</td>\n",
       "      <td></td>\n",
       "      <td>Our client, a well-known Japanese 3PL MNC is c...</td>\n",
       "      <td>NaN</td>\n",
       "      <td>NaN</td>\n",
       "      <td>Human Resources Management/Consulting</td>\n",
       "      <td>NaN</td>\n",
       "      <td>NaN</td>\n",
       "      <td>...</td>\n",
       "      <td>NaN</td>\n",
       "      <td>NaN</td>\n",
       "      <td>NaN</td>\n",
       "      <td>NaN</td>\n",
       "      <td>35005.0</td>\n",
       "      <td>35005.0</td>\n",
       "      <td>NaN</td>\n",
       "      <td>Our client, a well-known Japanese 3PL MNC is ...</td>\n",
       "      <td>2.0</td>\n",
       "      <td>35005.0</td>\n",
       "    </tr>\n",
       "    <tr>\n",
       "      <th>1842</th>\n",
       "      <td>Hitachi Asia Ltd</td>\n",
       "      <td>Singapore</td>\n",
       "      <td>Senior Executive</td>\n",
       "      <td></td>\n",
       "      <td>The Job:Responsible for ICT solution sales to ...</td>\n",
       "      <td>NaN</td>\n",
       "      <td>NaN</td>\n",
       "      <td>Electrical &amp; Electronics</td>\n",
       "      <td>NaN</td>\n",
       "      <td>NaN</td>\n",
       "      <td>...</td>\n",
       "      <td>NaN</td>\n",
       "      <td>NaN</td>\n",
       "      <td>NaN</td>\n",
       "      <td>NaN</td>\n",
       "      <td>1000000.0</td>\n",
       "      <td>1000000.0</td>\n",
       "      <td>NaN</td>\n",
       "      <td>The Job:Responsible for ICT solution sales to...</td>\n",
       "      <td>5.0</td>\n",
       "      <td>1000000.0</td>\n",
       "    </tr>\n",
       "    <tr>\n",
       "      <th>2093</th>\n",
       "      <td>Achieve Career Consultant Pte Ltd</td>\n",
       "      <td>Singapore</td>\n",
       "      <td>Process Engineer (UP to $3.5K / West / 5 days)</td>\n",
       "      <td></td>\n",
       "      <td>Established international manufacturing compan...</td>\n",
       "      <td>NaN</td>\n",
       "      <td>NaN</td>\n",
       "      <td>Human Resources Management/Consulting</td>\n",
       "      <td>NaN</td>\n",
       "      <td>NaN</td>\n",
       "      <td>...</td>\n",
       "      <td>NaN</td>\n",
       "      <td>NaN</td>\n",
       "      <td>NaN</td>\n",
       "      <td>NaN</td>\n",
       "      <td>35005.0</td>\n",
       "      <td>35005.0</td>\n",
       "      <td>NaN</td>\n",
       "      <td>Established international manufacturing compa...</td>\n",
       "      <td>2.0</td>\n",
       "      <td>35005.0</td>\n",
       "    </tr>\n",
       "    <tr>\n",
       "      <th>3004</th>\n",
       "      <td>Kelly Services (S) Pte Ltd</td>\n",
       "      <td>Singapore</td>\n",
       "      <td>Mechanical CAD Designer / Salary $4300 / Toa P...</td>\n",
       "      <td></td>\n",
       "      <td>My client is a Dutch technology company headqu...</td>\n",
       "      <td>NaN</td>\n",
       "      <td>NaN</td>\n",
       "      <td>Human Resources Management/Consulting</td>\n",
       "      <td>NaN</td>\n",
       "      <td>NaN</td>\n",
       "      <td>...</td>\n",
       "      <td>NaN</td>\n",
       "      <td>NaN</td>\n",
       "      <td>NaN</td>\n",
       "      <td>NaN</td>\n",
       "      <td>43001.0</td>\n",
       "      <td>43001.0</td>\n",
       "      <td>NaN</td>\n",
       "      <td>My client is a Dutch technology company headq...</td>\n",
       "      <td>1.0</td>\n",
       "      <td>43001.0</td>\n",
       "    </tr>\n",
       "  </tbody>\n",
       "</table>\n",
       "<p>5 rows × 23 columns</p>\n",
       "</div>"
      ],
      "text/plain": [
       "                                company    country  \\\n",
       "135                     SmartBuild Asia   Malaysia   \n",
       "1219       CVista HR Consulting Pte Ltd  Singapore   \n",
       "1842                   Hitachi Asia Ltd  Singapore   \n",
       "2093  Achieve Career Consultant Pte Ltd  Singapore   \n",
       "3004         Kelly Services (S) Pte Ltd  Singapore   \n",
       "\n",
       "                                              job_title  \\\n",
       "135                             Senior Python Developer   \n",
       "1219  Regional Pricing Analyst (Logistics / Japanese...   \n",
       "1842                                   Senior Executive   \n",
       "2093     Process Engineer (UP to $3.5K / West / 5 days)   \n",
       "3004  Mechanical CAD Designer / Salary $4300 / Toa P...   \n",
       "\n",
       "                                            description  \\\n",
       "135   Job Requirements:\\nDeep knowledge in a program...   \n",
       "1219                                                      \n",
       "1842                                                      \n",
       "2093                                                      \n",
       "3004                                                      \n",
       "\n",
       "                                        required_skills date_created equity  \\\n",
       "135                  Python Data Analysis Data Science   18 Jan 2018    NaN   \n",
       "1219  Our client, a well-known Japanese 3PL MNC is c...          NaN    NaN   \n",
       "1842  The Job:Responsible for ICT solution sales to ...          NaN    NaN   \n",
       "2093  Established international manufacturing compan...          NaN    NaN   \n",
       "3004  My client is a Dutch technology company headqu...          NaN    NaN   \n",
       "\n",
       "                               job_category   job_type last_updated  \\\n",
       "135                        Data & Analytics  Full-time  18 Jan 2018   \n",
       "1219  Human Resources Management/Consulting        NaN          NaN   \n",
       "1842               Electrical & Electronics        NaN          NaN   \n",
       "2093  Human Resources Management/Consulting        NaN          NaN   \n",
       "3004  Human Resources Management/Consulting        NaN          NaN   \n",
       "\n",
       "           ...         currency  lower   higher  rate  lower_sgd  higher_sgd  \\\n",
       "135        ...              MYR  70000  70000.0  0.34    23800.0     23800.0   \n",
       "1219       ...              NaN    NaN      NaN   NaN    35005.0     35005.0   \n",
       "1842       ...              NaN    NaN      NaN   NaN  1000000.0   1000000.0   \n",
       "2093       ...              NaN    NaN      NaN   NaN    35005.0     35005.0   \n",
       "3004       ...              NaN    NaN      NaN   NaN    43001.0     43001.0   \n",
       "\n",
       "      index                                   full_description  yrs_exp  \\\n",
       "135     NaN  Job Requirements: Deep knowledge in a programm...      1.5   \n",
       "1219    NaN   Our client, a well-known Japanese 3PL MNC is ...      2.0   \n",
       "1842    NaN   The Job:Responsible for ICT solution sales to...      5.0   \n",
       "2093    NaN   Established international manufacturing compa...      2.0   \n",
       "3004    NaN   My client is a Dutch technology company headq...      1.0   \n",
       "\n",
       "      mean_salary_sgd  \n",
       "135           23800.0  \n",
       "1219          35005.0  \n",
       "1842        1000000.0  \n",
       "2093          35005.0  \n",
       "3004          43001.0  \n",
       "\n",
       "[5 rows x 23 columns]"
      ]
     },
     "execution_count": 20,
     "metadata": {},
     "output_type": "execute_result"
    }
   ],
   "source": [
    "# check for outliers - per month salary logically should not exceed $20,000 SGD\n",
    "all_jobs[all_jobs['mean_salary_sgd'] > 20000]"
   ]
  },
  {
   "cell_type": "code",
   "execution_count": 21,
   "metadata": {
    "collapsed": true
   },
   "outputs": [],
   "source": [
    "# typo - should be 3500 instead of 35005, and 4300 instead of 43001\n",
    "condition = all_jobs['mean_salary_sgd'] == 35005\n",
    "all_jobs['mean_salary_sgd'] = np.where(condition, 3500, all_jobs['mean_salary_sgd'])\n",
    "\n",
    "condition = all_jobs['mean_salary_sgd'] == 43001\n",
    "all_jobs['mean_salary_sgd'] = np.where(condition, 4300, all_jobs['mean_salary_sgd'])\n",
    "\n",
    "# incorrect units - likely yearly salary instead of monthly salary (MYR 70,000 and SGD 1,000,000)\n",
    "# divide outlier salary by 12 to convert to monthly salary\n",
    "condition = all_jobs['mean_salary_sgd'] > 20000\n",
    "all_jobs['mean_salary_sgd'] = np.where(condition, all_jobs['mean_salary_sgd']/12, all_jobs['mean_salary_sgd'])\n",
    "\n",
    "# remove monthly salaries greater than 20,000sgd as outliers\n",
    "all_jobs = all_jobs[all_jobs['mean_salary_sgd'] < 20000]"
   ]
  },
  {
   "cell_type": "code",
   "execution_count": 22,
   "metadata": {
    "scrolled": false
   },
   "outputs": [
    {
     "data": {
      "text/plain": [
       "count      375.000000\n",
       "mean      4004.314622\n",
       "std       2092.171888\n",
       "min       1020.000000\n",
       "25%       2450.000000\n",
       "50%       3750.000000\n",
       "75%       5000.000000\n",
       "max      11000.000000\n",
       "Name: mean_salary_sgd, dtype: float64"
      ]
     },
     "execution_count": 22,
     "metadata": {},
     "output_type": "execute_result"
    }
   ],
   "source": [
    "all_jobs['mean_salary_sgd'].describe()"
   ]
  },
  {
   "cell_type": "markdown",
   "metadata": {},
   "source": [
    "__1.3 Visualise salary__"
   ]
  },
  {
   "cell_type": "code",
   "execution_count": 23,
   "metadata": {},
   "outputs": [
    {
     "name": "stderr",
     "output_type": "stream",
     "text": [
      "/usr/local/lib/python3.6/site-packages/statsmodels/nonparametric/kde.py:494: RuntimeWarning: invalid value encountered in true_divide\n",
      "  binned = fast_linbin(X,a,b,gridsize)/(delta*nobs)\n",
      "/usr/local/lib/python3.6/site-packages/statsmodels/nonparametric/kdetools.py:34: RuntimeWarning: invalid value encountered in double_scalars\n",
      "  FAC1 = 2*(np.pi*bw/RANGE)**2\n",
      "/usr/local/lib/python3.6/site-packages/numpy/core/_methods.py:26: RuntimeWarning: invalid value encountered in reduce\n",
      "  return umr_maximum(a, axis, None, out, keepdims)\n",
      "/usr/local/lib/python3.6/site-packages/numpy/core/_methods.py:135: RuntimeWarning: Degrees of freedom <= 0 for slice\n",
      "  keepdims=keepdims)\n",
      "/usr/local/lib/python3.6/site-packages/numpy/core/_methods.py:127: RuntimeWarning: invalid value encountered in double_scalars\n",
      "  ret = ret.dtype.type(ret / rcount)\n"
     ]
    },
    {
     "data": {
      "text/plain": [
       "<matplotlib.legend.Legend at 0x110467208>"
      ]
     },
     "execution_count": 23,
     "metadata": {},
     "output_type": "execute_result"
    },
    {
     "data": {
      "image/png": "[encoded data removed]",
      "text/plain": [
       "<matplotlib.figure.Figure at 0x110467c88>"
      ]
     },
     "metadata": {},
     "output_type": "display_data"
    }
   ],
   "source": [
    "# different countries have different salary distributions \n",
    "g = sns.FacetGrid(all_jobs[['country','mean_salary_sgd']], hue='country', size=6)\n",
    "g = g.map(sns.distplot, 'mean_salary_sgd')\n",
    "plt.legend()"
   ]
  },
  {
   "cell_type": "code",
   "execution_count": 24,
   "metadata": {},
   "outputs": [
    {
     "name": "stderr",
     "output_type": "stream",
     "text": [
      "/usr/local/lib/python3.6/site-packages/seaborn/axisgrid.py:703: UserWarning: Using the countplot function without specifying `order` is likely to produce an incorrect plot.\n",
      "  warnings.warn(warning)\n"
     ]
    },
    {
     "data": {
      "text/plain": [
       "<matplotlib.legend.Legend at 0x1100a2940>"
      ]
     },
     "execution_count": 24,
     "metadata": {},
     "output_type": "execute_result"
    },
    {
     "data": {
      "image/png": "[encoded data removed]",
      "text/plain": [
       "<matplotlib.figure.Figure at 0x11046ce80>"
      ]
     },
     "metadata": {},
     "output_type": "display_data"
    }
   ],
   "source": [
    "# different countries have different salary distributions \n",
    "g = sns.FacetGrid(all_jobs[['country','mean_salary_sgd']], hue='country', size=6)\n",
    "g = g.map(sns.countplot, 'mean_salary_sgd')\n",
    "plt.legend()"
   ]
  },
  {
   "cell_type": "markdown",
   "metadata": {},
   "source": [
    "__1.4 Visualise years of experience against salary__"
   ]
  },
  {
   "cell_type": "code",
   "execution_count": 25,
   "metadata": {},
   "outputs": [
    {
     "name": "stderr",
     "output_type": "stream",
     "text": [
      "/usr/local/lib/python3.6/site-packages/matplotlib/axes/_axes.py:545: UserWarning: No labelled objects found. Use label='...' kwarg on individual plots.\n",
      "  warnings.warn(\"No labelled objects found. \"\n"
     ]
    },
    {
     "data": {
      "image/png": "[encoded data removed]",
      "text/plain": [
       "<matplotlib.figure.Figure at 0x1103b6e48>"
      ]
     },
     "metadata": {},
     "output_type": "display_data"
    }
   ],
   "source": [
    "# different countries have different salary distributions \n",
    "g = sns.FacetGrid(all_jobs[['yrs_exp','mean_salary_sgd']], size=6)\n",
    "g = g.map(sns.regplot, 'mean_salary_sgd', 'yrs_exp', fit_reg=False)\n",
    "plt.legend()"
   ]
  },
  {
   "cell_type": "code",
   "execution_count": 26,
   "metadata": {},
   "outputs": [
    {
     "data": {
      "text/html": [
       "<div>\n",
       "<style scoped>\n",
       "    .dataframe tbody tr th:only-of-type {\n",
       "        vertical-align: middle;\n",
       "    }\n",
       "\n",
       "    .dataframe tbody tr th {\n",
       "        vertical-align: top;\n",
       "    }\n",
       "\n",
       "    .dataframe thead th {\n",
       "        text-align: right;\n",
       "    }\n",
       "</style>\n",
       "<table border=\"1\" class=\"dataframe\">\n",
       "  <thead>\n",
       "    <tr style=\"text-align: right;\">\n",
       "      <th></th>\n",
       "      <th>company</th>\n",
       "      <th>country</th>\n",
       "      <th>job_title</th>\n",
       "      <th>description</th>\n",
       "      <th>required_skills</th>\n",
       "      <th>date_created</th>\n",
       "      <th>equity</th>\n",
       "      <th>job_category</th>\n",
       "      <th>job_type</th>\n",
       "      <th>last_updated</th>\n",
       "      <th>...</th>\n",
       "      <th>currency</th>\n",
       "      <th>lower</th>\n",
       "      <th>higher</th>\n",
       "      <th>rate</th>\n",
       "      <th>lower_sgd</th>\n",
       "      <th>higher_sgd</th>\n",
       "      <th>index</th>\n",
       "      <th>full_description</th>\n",
       "      <th>yrs_exp</th>\n",
       "      <th>mean_salary_sgd</th>\n",
       "    </tr>\n",
       "  </thead>\n",
       "  <tbody>\n",
       "    <tr>\n",
       "      <th>0</th>\n",
       "      <td>Tech in Asia</td>\n",
       "      <td>Singapore</td>\n",
       "      <td>Data Scientist</td>\n",
       "      <td>Tech in Asia (YC W15) is a media, events, and ...</td>\n",
       "      <td>Amazon Web Services (AWS) Data Visualization S...</td>\n",
       "      <td>28 Jan 2018</td>\n",
       "      <td>Yes</td>\n",
       "      <td>Data &amp; Analytics</td>\n",
       "      <td>Full-time</td>\n",
       "      <td>28 Jan 2018</td>\n",
       "      <td>...</td>\n",
       "      <td>SGD</td>\n",
       "      <td>4500</td>\n",
       "      <td>6000.0</td>\n",
       "      <td>1.000000</td>\n",
       "      <td>4500.00</td>\n",
       "      <td>6000.0</td>\n",
       "      <td>NaN</td>\n",
       "      <td>Tech in Asia (YC W15) is a media, events, and ...</td>\n",
       "      <td>1.5</td>\n",
       "      <td>5250.000</td>\n",
       "    </tr>\n",
       "    <tr>\n",
       "      <th>2</th>\n",
       "      <td>Fabelio</td>\n",
       "      <td>Indonesia</td>\n",
       "      <td>Data Scientist</td>\n",
       "      <td>Job Description:\\nTransform large, complex dat...</td>\n",
       "      <td>Python Hadoop SQL</td>\n",
       "      <td>25 Jan 2018</td>\n",
       "      <td>NaN</td>\n",
       "      <td>Data &amp; Analytics</td>\n",
       "      <td>Full-time</td>\n",
       "      <td>25 Jan 2018</td>\n",
       "      <td>...</td>\n",
       "      <td>IDR</td>\n",
       "      <td>9e+06</td>\n",
       "      <td>12000000.0</td>\n",
       "      <td>0.000098</td>\n",
       "      <td>882.00</td>\n",
       "      <td>1176.0</td>\n",
       "      <td>NaN</td>\n",
       "      <td>Job Description: Transform large, complex data...</td>\n",
       "      <td>1.5</td>\n",
       "      <td>1029.000</td>\n",
       "    </tr>\n",
       "    <tr>\n",
       "      <th>3</th>\n",
       "      <td>Unisoft Infotech</td>\n",
       "      <td>Singapore</td>\n",
       "      <td>Data Scientist</td>\n",
       "      <td>Data Scientist\\nThe position is for one of our...</td>\n",
       "      <td>Python Machine Learning R Artificial Intellige...</td>\n",
       "      <td>24 Jan 2018</td>\n",
       "      <td>NaN</td>\n",
       "      <td>Data &amp; Analytics</td>\n",
       "      <td>Full-time</td>\n",
       "      <td>24 Jan 2018</td>\n",
       "      <td>...</td>\n",
       "      <td>SGD</td>\n",
       "      <td>3000</td>\n",
       "      <td>9000.0</td>\n",
       "      <td>1.000000</td>\n",
       "      <td>3000.00</td>\n",
       "      <td>9000.0</td>\n",
       "      <td>NaN</td>\n",
       "      <td>Data Scientist The position is for one of our ...</td>\n",
       "      <td>1.5</td>\n",
       "      <td>6000.000</td>\n",
       "    </tr>\n",
       "    <tr>\n",
       "      <th>4</th>\n",
       "      <td>Housal</td>\n",
       "      <td>Philippines</td>\n",
       "      <td>Data Scientist</td>\n",
       "      <td>Job Description\\nWe are looking for a Data Sci...</td>\n",
       "      <td>Data Analysis Data Science Hadoop SQL Python T...</td>\n",
       "      <td>23 Jan 2018</td>\n",
       "      <td>Yes</td>\n",
       "      <td>Data &amp; Analytics</td>\n",
       "      <td>Full-time</td>\n",
       "      <td>23 Jan 2018</td>\n",
       "      <td>...</td>\n",
       "      <td>PHP</td>\n",
       "      <td>60000</td>\n",
       "      <td>120000.0</td>\n",
       "      <td>0.025000</td>\n",
       "      <td>1500.00</td>\n",
       "      <td>3000.0</td>\n",
       "      <td>NaN</td>\n",
       "      <td>Job Description We are looking for a Data Scie...</td>\n",
       "      <td>1.5</td>\n",
       "      <td>2250.000</td>\n",
       "    </tr>\n",
       "    <tr>\n",
       "      <th>5</th>\n",
       "      <td>Knorex</td>\n",
       "      <td>Vietnam</td>\n",
       "      <td>Data Scientist</td>\n",
       "      <td>Knorex develops a cloud-based, highly scalable...</td>\n",
       "      <td>Data Science Data Management Data Analysis</td>\n",
       "      <td>19 Jan 2018</td>\n",
       "      <td>Yes</td>\n",
       "      <td>Data &amp; Analytics</td>\n",
       "      <td>Full-time</td>\n",
       "      <td>19 Jan 2018</td>\n",
       "      <td>...</td>\n",
       "      <td>VND</td>\n",
       "      <td>2.5e+07</td>\n",
       "      <td>46000000.0</td>\n",
       "      <td>0.000058</td>\n",
       "      <td>1443.75</td>\n",
       "      <td>2656.5</td>\n",
       "      <td>NaN</td>\n",
       "      <td>Knorex develops a cloud-based, highly scalable...</td>\n",
       "      <td>1.5</td>\n",
       "      <td>2050.125</td>\n",
       "    </tr>\n",
       "  </tbody>\n",
       "</table>\n",
       "<p>5 rows × 23 columns</p>\n",
       "</div>"
      ],
      "text/plain": [
       "            company      country       job_title  \\\n",
       "0      Tech in Asia    Singapore  Data Scientist   \n",
       "2           Fabelio    Indonesia  Data Scientist   \n",
       "3  Unisoft Infotech    Singapore  Data Scientist   \n",
       "4            Housal  Philippines  Data Scientist   \n",
       "5            Knorex      Vietnam  Data Scientist   \n",
       "\n",
       "                                         description  \\\n",
       "0  Tech in Asia (YC W15) is a media, events, and ...   \n",
       "2  Job Description:\\nTransform large, complex dat...   \n",
       "3  Data Scientist\\nThe position is for one of our...   \n",
       "4  Job Description\\nWe are looking for a Data Sci...   \n",
       "5  Knorex develops a cloud-based, highly scalable...   \n",
       "\n",
       "                                     required_skills date_created equity  \\\n",
       "0  Amazon Web Services (AWS) Data Visualization S...  28 Jan 2018    Yes   \n",
       "2                                 Python Hadoop SQL   25 Jan 2018    NaN   \n",
       "3  Python Machine Learning R Artificial Intellige...  24 Jan 2018    NaN   \n",
       "4  Data Analysis Data Science Hadoop SQL Python T...  23 Jan 2018    Yes   \n",
       "5        Data Science Data Management Data Analysis   19 Jan 2018    Yes   \n",
       "\n",
       "       job_category   job_type last_updated       ...         currency  \\\n",
       "0  Data & Analytics  Full-time  28 Jan 2018       ...              SGD   \n",
       "2  Data & Analytics  Full-time  25 Jan 2018       ...              IDR   \n",
       "3  Data & Analytics  Full-time  24 Jan 2018       ...              SGD   \n",
       "4  Data & Analytics  Full-time  23 Jan 2018       ...              PHP   \n",
       "5  Data & Analytics  Full-time  19 Jan 2018       ...              VND   \n",
       "\n",
       "     lower      higher      rate lower_sgd  higher_sgd  index  \\\n",
       "0     4500      6000.0  1.000000   4500.00      6000.0    NaN   \n",
       "2    9e+06  12000000.0  0.000098    882.00      1176.0    NaN   \n",
       "3     3000      9000.0  1.000000   3000.00      9000.0    NaN   \n",
       "4    60000    120000.0  0.025000   1500.00      3000.0    NaN   \n",
       "5  2.5e+07  46000000.0  0.000058   1443.75      2656.5    NaN   \n",
       "\n",
       "                                    full_description  yrs_exp  mean_salary_sgd  \n",
       "0  Tech in Asia (YC W15) is a media, events, and ...      1.5         5250.000  \n",
       "2  Job Description: Transform large, complex data...      1.5         1029.000  \n",
       "3  Data Scientist The position is for one of our ...      1.5         6000.000  \n",
       "4  Job Description We are looking for a Data Scie...      1.5         2250.000  \n",
       "5  Knorex develops a cloud-based, highly scalable...      1.5         2050.125  \n",
       "\n",
       "[5 rows x 23 columns]"
      ]
     },
     "execution_count": 26,
     "metadata": {},
     "output_type": "execute_result"
    }
   ],
   "source": [
    "all_jobs.head()"
   ]
  },
  {
   "cell_type": "code",
   "execution_count": 27,
   "metadata": {
    "collapsed": true
   },
   "outputs": [],
   "source": [
    "# drop irrelevant job\n",
    "all_jobs.drop(index=all_jobs.index[-4], axis=0, inplace=True)"
   ]
  },
  {
   "cell_type": "code",
   "execution_count": 28,
   "metadata": {},
   "outputs": [
    {
     "data": {
      "text/plain": [
       "(374, 23)"
      ]
     },
     "execution_count": 28,
     "metadata": {},
     "output_type": "execute_result"
    }
   ],
   "source": [
    "all_jobs.shape"
   ]
  },
  {
   "cell_type": "code",
   "execution_count": 29,
   "metadata": {
    "collapsed": true
   },
   "outputs": [],
   "source": [
    "all_jobs.to_pickle('salary_clean.pkl')"
   ]
  },
  {
   "cell_type": "markdown",
   "metadata": {},
   "source": [
    "__1.7 Get dummies for country column__"
   ]
  },
  {
   "cell_type": "code",
   "execution_count": 30,
   "metadata": {
    "collapsed": true
   },
   "outputs": [],
   "source": [
    "country_dum = pd.get_dummies(all_jobs['country'], drop_first=True)"
   ]
  },
  {
   "cell_type": "markdown",
   "metadata": {},
   "source": [
    "__1.8 Use tf-idf to generate features on 'description', together with years of exp and countries__"
   ]
  },
  {
   "cell_type": "code",
   "execution_count": 31,
   "metadata": {
    "collapsed": true
   },
   "outputs": [],
   "source": [
    "from sklearn.feature_extraction.text import TfidfVectorizer\n",
    "from collections import Counter\n",
    "from sklearn.model_selection import train_test_split\n",
    "from sklearn.linear_model import LassoCV, RidgeCV\n",
    "from sklearn.feature_extraction import text "
   ]
  },
  {
   "cell_type": "code",
   "execution_count": 32,
   "metadata": {},
   "outputs": [
    {
     "data": {
      "text/html": [
       "<div>\n",
       "<style scoped>\n",
       "    .dataframe tbody tr th:only-of-type {\n",
       "        vertical-align: middle;\n",
       "    }\n",
       "\n",
       "    .dataframe tbody tr th {\n",
       "        vertical-align: top;\n",
       "    }\n",
       "\n",
       "    .dataframe thead th {\n",
       "        text-align: right;\n",
       "    }\n",
       "</style>\n",
       "<table border=\"1\" class=\"dataframe\">\n",
       "  <thead>\n",
       "    <tr style=\"text-align: right;\">\n",
       "      <th></th>\n",
       "      <th>full_description</th>\n",
       "      <th>yrs_exp</th>\n",
       "      <th>China</th>\n",
       "      <th>Hong Kong</th>\n",
       "      <th>India</th>\n",
       "      <th>Indonesia</th>\n",
       "      <th>Java</th>\n",
       "      <th>Malaysia</th>\n",
       "      <th>Philippines</th>\n",
       "      <th>Singapore</th>\n",
       "      <th>Thailand</th>\n",
       "      <th>Vietnam</th>\n",
       "    </tr>\n",
       "  </thead>\n",
       "  <tbody>\n",
       "    <tr>\n",
       "      <th>3106</th>\n",
       "      <td>Branded FMCG MNC    Min 2 years pricing or co...</td>\n",
       "      <td>5.0</td>\n",
       "      <td>0</td>\n",
       "      <td>0</td>\n",
       "      <td>0</td>\n",
       "      <td>0</td>\n",
       "      <td>0</td>\n",
       "      <td>0</td>\n",
       "      <td>0</td>\n",
       "      <td>1</td>\n",
       "      <td>0</td>\n",
       "      <td>0</td>\n",
       "    </tr>\n",
       "    <tr>\n",
       "      <th>3113</th>\n",
       "      <td>[Order Number: 1712-49457]Responsibilities:To...</td>\n",
       "      <td>2.0</td>\n",
       "      <td>0</td>\n",
       "      <td>0</td>\n",
       "      <td>0</td>\n",
       "      <td>0</td>\n",
       "      <td>0</td>\n",
       "      <td>0</td>\n",
       "      <td>0</td>\n",
       "      <td>1</td>\n",
       "      <td>0</td>\n",
       "      <td>0</td>\n",
       "    </tr>\n",
       "    <tr>\n",
       "      <th>3148</th>\n",
       "      <td>Responsibilities:Assembly and testing of the ...</td>\n",
       "      <td>0.0</td>\n",
       "      <td>0</td>\n",
       "      <td>0</td>\n",
       "      <td>0</td>\n",
       "      <td>0</td>\n",
       "      <td>0</td>\n",
       "      <td>0</td>\n",
       "      <td>0</td>\n",
       "      <td>1</td>\n",
       "      <td>0</td>\n",
       "      <td>0</td>\n",
       "    </tr>\n",
       "    <tr>\n",
       "      <th>3156</th>\n",
       "      <td>Admin Assistant 3 - 6 months  $1800 -$2200 Sh...</td>\n",
       "      <td>1.0</td>\n",
       "      <td>0</td>\n",
       "      <td>0</td>\n",
       "      <td>0</td>\n",
       "      <td>0</td>\n",
       "      <td>0</td>\n",
       "      <td>0</td>\n",
       "      <td>0</td>\n",
       "      <td>1</td>\n",
       "      <td>0</td>\n",
       "      <td>0</td>\n",
       "    </tr>\n",
       "    <tr>\n",
       "      <th>3216</th>\n",
       "      <td>[MUST] Min. NITEC in Electrical and Electroni...</td>\n",
       "      <td>1.0</td>\n",
       "      <td>0</td>\n",
       "      <td>0</td>\n",
       "      <td>0</td>\n",
       "      <td>0</td>\n",
       "      <td>0</td>\n",
       "      <td>0</td>\n",
       "      <td>0</td>\n",
       "      <td>1</td>\n",
       "      <td>0</td>\n",
       "      <td>0</td>\n",
       "    </tr>\n",
       "  </tbody>\n",
       "</table>\n",
       "</div>"
      ],
      "text/plain": [
       "                                       full_description  yrs_exp  China  \\\n",
       "3106   Branded FMCG MNC    Min 2 years pricing or co...      5.0      0   \n",
       "3113   [Order Number: 1712-49457]Responsibilities:To...      2.0      0   \n",
       "3148   Responsibilities:Assembly and testing of the ...      0.0      0   \n",
       "3156   Admin Assistant 3 - 6 months  $1800 -$2200 Sh...      1.0      0   \n",
       "3216   [MUST] Min. NITEC in Electrical and Electroni...      1.0      0   \n",
       "\n",
       "      Hong Kong  India  Indonesia  Java  Malaysia  Philippines  Singapore  \\\n",
       "3106          0      0          0     0         0            0          1   \n",
       "3113          0      0          0     0         0            0          1   \n",
       "3148          0      0          0     0         0            0          1   \n",
       "3156          0      0          0     0         0            0          1   \n",
       "3216          0      0          0     0         0            0          1   \n",
       "\n",
       "      Thailand  Vietnam  \n",
       "3106         0        0  \n",
       "3113         0        0  \n",
       "3148         0        0  \n",
       "3156         0        0  \n",
       "3216         0        0  "
      ]
     },
     "execution_count": 32,
     "metadata": {},
     "output_type": "execute_result"
    }
   ],
   "source": [
    "# create X\n",
    "X = pd.concat([all_jobs[['full_description','yrs_exp']], country_dum], axis=1)\n",
    "y = all_jobs['mean_salary_sgd']\n",
    "X.tail()"
   ]
  },
  {
   "cell_type": "code",
   "execution_count": 33,
   "metadata": {
    "collapsed": true
   },
   "outputs": [],
   "source": [
    "# create list of stop words\n",
    "my_additional_stop_words = []\n",
    "stop_words = text.ENGLISH_STOP_WORDS.union(my_additional_stop_words)\n",
    "\n",
    "#find ngrams (unique terms)\n",
    "tfidf = TfidfVectorizer(ngram_range=(2,3), stop_words=stop_words, sublinear_tf=True, max_df=0.5, max_features=2500)"
   ]
  },
  {
   "cell_type": "code",
   "execution_count": 34,
   "metadata": {},
   "outputs": [
    {
     "data": {
      "text/plain": [
       "[('email protected', 215),\n",
       " ('word format', 146),\n",
       " ('personal information', 128),\n",
       " ('submitting application', 127),\n",
       " ('deemed agreed', 127),\n",
       " ('agreed consented', 127),\n",
       " ('disclosing personal', 127),\n",
       " ('information prospective', 127),\n",
       " ('prospective employers', 127),\n",
       " ('employers consideration', 127),\n",
       " ('deemed agreed consented', 127),\n",
       " ('disclosing personal information', 127),\n",
       " ('personal information prospective', 127),\n",
       " ('information prospective employers', 127),\n",
       " ('prospective employers consideration', 127),\n",
       " ('ms word', 126),\n",
       " ('application sume', 126),\n",
       " ('sume deemed', 126),\n",
       " ('submitting application sume', 126),\n",
       " ('application sume deemed', 126)]"
      ]
     },
     "execution_count": 34,
     "metadata": {},
     "output_type": "execute_result"
    }
   ],
   "source": [
    "# check most frequent bigrams/trigrams in the full description\n",
    "summaries = ''.join(X['full_description'])\n",
    "ngrams_summaries = tfidf.build_analyzer()(summaries)\n",
    "\n",
    "Counter(ngrams_summaries).most_common(20)"
   ]
  },
  {
   "cell_type": "code",
   "execution_count": 35,
   "metadata": {
    "scrolled": true
   },
   "outputs": [
    {
     "name": "stderr",
     "output_type": "stream",
     "text": [
      "/usr/local/lib/python3.6/site-packages/sklearn/feature_extraction/text.py:1089: FutureWarning: Conversion of the second argument of issubdtype from `float` to `np.floating` is deprecated. In future, it will be treated as `np.float64 == np.dtype(float).type`.\n",
      "  if hasattr(X, 'dtype') and np.issubdtype(X.dtype, np.float):\n"
     ]
    }
   ],
   "source": [
    "# train test split\n",
    "X_train, X_test, y_train, y_test = train_test_split(X, y, test_size=0.2, random_state=42)\n",
    "\n",
    "X_train_dense = pd.DataFrame(tfidf.fit_transform(X_train['full_description']).todense())\n",
    "X_test_dense = pd.DataFrame(tfidf.transform(X_test['full_description']).todense())"
   ]
  },
  {
   "cell_type": "code",
   "execution_count": 36,
   "metadata": {
    "collapsed": true
   },
   "outputs": [],
   "source": [
    "# concat tf-idf features with rest of df - reset index and concat for train and test sets\n",
    "X_train.reset_index(drop=True, inplace=True)\n",
    "X_train_dense.reset_index(drop=True, inplace=True)\n",
    "X_train_dense = pd.concat([X_train_dense, X_train.drop('full_description', axis=1)], axis=1)\n",
    "\n",
    "X_test.reset_index(drop=True, inplace=True)\n",
    "X_test_dense.reset_index(drop=True, inplace=True)\n",
    "X_test_dense = pd.concat([X_test_dense, X_test.drop('full_description', axis=1)], axis=1)"
   ]
  },
  {
   "cell_type": "markdown",
   "metadata": {},
   "source": [
    "__1.9 Model with Lasso/Ridge penalty__"
   ]
  },
  {
   "cell_type": "code",
   "execution_count": 37,
   "metadata": {},
   "outputs": [
    {
     "data": {
      "text/plain": [
       "0.5599289396329757"
      ]
     },
     "execution_count": 37,
     "metadata": {},
     "output_type": "execute_result"
    }
   ],
   "source": [
    "# try Lasso model\n",
    "lasso = LassoCV()\n",
    "lasso.fit(X_train_dense, y_train)\n",
    "lasso.score(X_test_dense, y_test)"
   ]
  },
  {
   "cell_type": "code",
   "execution_count": 38,
   "metadata": {},
   "outputs": [
    {
     "data": {
      "text/plain": [
       "0.5854588917938661"
      ]
     },
     "execution_count": 38,
     "metadata": {},
     "output_type": "execute_result"
    }
   ],
   "source": [
    "# try Ridge model\n",
    "ridge = RidgeCV()\n",
    "ridge.fit(X_train_dense, y_train)\n",
    "ridge.score(X_test_dense, y_test)"
   ]
  },
  {
   "cell_type": "code",
   "execution_count": 39,
   "metadata": {},
   "outputs": [
    {
     "name": "stderr",
     "output_type": "stream",
     "text": [
      "/usr/local/lib/python3.6/site-packages/sklearn/feature_extraction/text.py:1089: FutureWarning: Conversion of the second argument of issubdtype from `float` to `np.floating` is deprecated. In future, it will be treated as `np.float64 == np.dtype(float).type`.\n",
      "  if hasattr(X, 'dtype') and np.issubdtype(X.dtype, np.float):\n"
     ]
    }
   ],
   "source": [
    "# get top 20 tf-idf terms\n",
    "features = tfidf.get_feature_names()\n",
    "feature_array = np.array(tfidf.get_feature_names())\n",
    "tfidf_sorting = np.argsort(tfidf.fit_transform(X_train['full_description']).toarray()).flatten()[::-1]\n",
    "n = 20\n",
    "top_n = feature_array[tfidf_sorting][:n]"
   ]
  },
  {
   "cell_type": "code",
   "execution_count": 40,
   "metadata": {},
   "outputs": [
    {
     "data": {
      "text/plain": [
       "array(['marketing automation', 'digital marketing', 'analytics tools',\n",
       "       'product team', 'marketing campaigns', 'marketing team',\n",
       "       'good communication skills', 'best practices', 'social media',\n",
       "       'strong analytical', 'data analysis', 'data driven',\n",
       "       'requirements bachelor degree', 'good communication',\n",
       "       'analytical skills', 'data mining', 'requirements bachelor',\n",
       "       'communication skills', 'bachelor degree',\n",
       "       'email subject providing'], dtype='<U43')"
      ]
     },
     "execution_count": 40,
     "metadata": {},
     "output_type": "execute_result"
    }
   ],
   "source": [
    "top_n"
   ]
  },
  {
   "cell_type": "code",
   "execution_count": 41,
   "metadata": {
    "collapsed": true
   },
   "outputs": [],
   "source": [
    "# try classification"
   ]
  },
  {
   "cell_type": "markdown",
   "metadata": {},
   "source": [
    "### Q2 Factors that distinguish job category"
   ]
  },
  {
   "cell_type": "markdown",
   "metadata": {},
   "source": [
    "- What components of a job posting distinguish data scientists from other data jobs?\n",
    "- What features are important for distinguishing junior vs. senior positions?\n",
    "- Do the requirements for titles vary significantly with industry (e.g. healthcare vs. government)?"
   ]
  },
  {
   "cell_type": "code",
   "execution_count": 42,
   "metadata": {
    "collapsed": true
   },
   "outputs": [],
   "source": [
    "q2_all_jobs = pd.read_pickle('all_jobs_clean.pkl')"
   ]
  },
  {
   "cell_type": "code",
   "execution_count": 43,
   "metadata": {},
   "outputs": [
    {
     "data": {
      "text/html": [
       "<div>\n",
       "<style scoped>\n",
       "    .dataframe tbody tr th:only-of-type {\n",
       "        vertical-align: middle;\n",
       "    }\n",
       "\n",
       "    .dataframe tbody tr th {\n",
       "        vertical-align: top;\n",
       "    }\n",
       "\n",
       "    .dataframe thead th {\n",
       "        text-align: right;\n",
       "    }\n",
       "</style>\n",
       "<table border=\"1\" class=\"dataframe\">\n",
       "  <thead>\n",
       "    <tr style=\"text-align: right;\">\n",
       "      <th></th>\n",
       "      <th>company</th>\n",
       "      <th>country</th>\n",
       "      <th>job_title</th>\n",
       "      <th>description</th>\n",
       "      <th>required_skills</th>\n",
       "      <th>date_created</th>\n",
       "      <th>equity</th>\n",
       "      <th>job_category</th>\n",
       "      <th>job_type</th>\n",
       "      <th>last_updated</th>\n",
       "      <th>...</th>\n",
       "      <th>years_of_experience_required</th>\n",
       "      <th>currency</th>\n",
       "      <th>lower</th>\n",
       "      <th>higher</th>\n",
       "      <th>rate</th>\n",
       "      <th>lower_sgd</th>\n",
       "      <th>higher_sgd</th>\n",
       "      <th>index</th>\n",
       "      <th>full_description</th>\n",
       "      <th>yrs_exp</th>\n",
       "    </tr>\n",
       "  </thead>\n",
       "  <tbody>\n",
       "    <tr>\n",
       "      <th>0</th>\n",
       "      <td>Tech in Asia</td>\n",
       "      <td>Singapore</td>\n",
       "      <td>Data Scientist</td>\n",
       "      <td>Tech in Asia (YC W15) is a media, events, and ...</td>\n",
       "      <td>Amazon Web Services (AWS) Data Visualization S...</td>\n",
       "      <td>28 Jan 2018</td>\n",
       "      <td>Yes</td>\n",
       "      <td>Data &amp; Analytics</td>\n",
       "      <td>Full-time</td>\n",
       "      <td>28 Jan 2018</td>\n",
       "      <td>...</td>\n",
       "      <td>1.5</td>\n",
       "      <td>SGD</td>\n",
       "      <td>4500</td>\n",
       "      <td>6000.0</td>\n",
       "      <td>1.000000</td>\n",
       "      <td>4500</td>\n",
       "      <td>6000.0</td>\n",
       "      <td>NaN</td>\n",
       "      <td>Tech in Asia (YC W15) is a media, events, and ...</td>\n",
       "      <td>1.5</td>\n",
       "    </tr>\n",
       "    <tr>\n",
       "      <th>1</th>\n",
       "      <td>F Corporation</td>\n",
       "      <td>Indonesia</td>\n",
       "      <td>Data Scientist</td>\n",
       "      <td>Description\\n\\nThe focus of our data science t...</td>\n",
       "      <td>What is it like working at F Corporation?Worki...</td>\n",
       "      <td>26 Jan 2018</td>\n",
       "      <td>NaN</td>\n",
       "      <td>Data &amp; Analytics</td>\n",
       "      <td>Full-time</td>\n",
       "      <td>26 Jan 2018</td>\n",
       "      <td>...</td>\n",
       "      <td>1.5</td>\n",
       "      <td>IDR</td>\n",
       "      <td>5e+06</td>\n",
       "      <td>9000000.0</td>\n",
       "      <td>0.000098</td>\n",
       "      <td>490</td>\n",
       "      <td>882.0</td>\n",
       "      <td>NaN</td>\n",
       "      <td>Description  The focus of our data science tea...</td>\n",
       "      <td>1.5</td>\n",
       "    </tr>\n",
       "    <tr>\n",
       "      <th>2</th>\n",
       "      <td>Fabelio</td>\n",
       "      <td>Indonesia</td>\n",
       "      <td>Data Scientist</td>\n",
       "      <td>Job Description:\\nTransform large, complex dat...</td>\n",
       "      <td>Python Hadoop SQL</td>\n",
       "      <td>25 Jan 2018</td>\n",
       "      <td>NaN</td>\n",
       "      <td>Data &amp; Analytics</td>\n",
       "      <td>Full-time</td>\n",
       "      <td>25 Jan 2018</td>\n",
       "      <td>...</td>\n",
       "      <td>1.5</td>\n",
       "      <td>IDR</td>\n",
       "      <td>9e+06</td>\n",
       "      <td>12000000.0</td>\n",
       "      <td>0.000098</td>\n",
       "      <td>882</td>\n",
       "      <td>1176.0</td>\n",
       "      <td>NaN</td>\n",
       "      <td>Job Description: Transform large, complex data...</td>\n",
       "      <td>1.5</td>\n",
       "    </tr>\n",
       "    <tr>\n",
       "      <th>3</th>\n",
       "      <td>Unisoft Infotech</td>\n",
       "      <td>Singapore</td>\n",
       "      <td>Data Scientist</td>\n",
       "      <td>Data Scientist\\nThe position is for one of our...</td>\n",
       "      <td>Python Machine Learning R Artificial Intellige...</td>\n",
       "      <td>24 Jan 2018</td>\n",
       "      <td>NaN</td>\n",
       "      <td>Data &amp; Analytics</td>\n",
       "      <td>Full-time</td>\n",
       "      <td>24 Jan 2018</td>\n",
       "      <td>...</td>\n",
       "      <td>1.5</td>\n",
       "      <td>SGD</td>\n",
       "      <td>3000</td>\n",
       "      <td>9000.0</td>\n",
       "      <td>1.000000</td>\n",
       "      <td>3000</td>\n",
       "      <td>9000.0</td>\n",
       "      <td>NaN</td>\n",
       "      <td>Data Scientist The position is for one of our ...</td>\n",
       "      <td>1.5</td>\n",
       "    </tr>\n",
       "    <tr>\n",
       "      <th>4</th>\n",
       "      <td>Housal</td>\n",
       "      <td>Philippines</td>\n",
       "      <td>Data Scientist</td>\n",
       "      <td>Job Description\\nWe are looking for a Data Sci...</td>\n",
       "      <td>Data Analysis Data Science Hadoop SQL Python T...</td>\n",
       "      <td>23 Jan 2018</td>\n",
       "      <td>Yes</td>\n",
       "      <td>Data &amp; Analytics</td>\n",
       "      <td>Full-time</td>\n",
       "      <td>23 Jan 2018</td>\n",
       "      <td>...</td>\n",
       "      <td>1.5</td>\n",
       "      <td>PHP</td>\n",
       "      <td>60000</td>\n",
       "      <td>120000.0</td>\n",
       "      <td>0.025000</td>\n",
       "      <td>1500</td>\n",
       "      <td>3000.0</td>\n",
       "      <td>NaN</td>\n",
       "      <td>Job Description We are looking for a Data Scie...</td>\n",
       "      <td>1.5</td>\n",
       "    </tr>\n",
       "  </tbody>\n",
       "</table>\n",
       "<p>5 rows × 22 columns</p>\n",
       "</div>"
      ],
      "text/plain": [
       "            company      country       job_title  \\\n",
       "0      Tech in Asia    Singapore  Data Scientist   \n",
       "1     F Corporation    Indonesia  Data Scientist   \n",
       "2           Fabelio    Indonesia  Data Scientist   \n",
       "3  Unisoft Infotech    Singapore  Data Scientist   \n",
       "4            Housal  Philippines  Data Scientist   \n",
       "\n",
       "                                         description  \\\n",
       "0  Tech in Asia (YC W15) is a media, events, and ...   \n",
       "1  Description\\n\\nThe focus of our data science t...   \n",
       "2  Job Description:\\nTransform large, complex dat...   \n",
       "3  Data Scientist\\nThe position is for one of our...   \n",
       "4  Job Description\\nWe are looking for a Data Sci...   \n",
       "\n",
       "                                     required_skills date_created equity  \\\n",
       "0  Amazon Web Services (AWS) Data Visualization S...  28 Jan 2018    Yes   \n",
       "1  What is it like working at F Corporation?Worki...  26 Jan 2018    NaN   \n",
       "2                                 Python Hadoop SQL   25 Jan 2018    NaN   \n",
       "3  Python Machine Learning R Artificial Intellige...  24 Jan 2018    NaN   \n",
       "4  Data Analysis Data Science Hadoop SQL Python T...  23 Jan 2018    Yes   \n",
       "\n",
       "       job_category   job_type last_updated   ...     \\\n",
       "0  Data & Analytics  Full-time  28 Jan 2018   ...      \n",
       "1  Data & Analytics  Full-time  26 Jan 2018   ...      \n",
       "2  Data & Analytics  Full-time  25 Jan 2018   ...      \n",
       "3  Data & Analytics  Full-time  24 Jan 2018   ...      \n",
       "4  Data & Analytics  Full-time  23 Jan 2018   ...      \n",
       "\n",
       "   years_of_experience_required currency  lower      higher      rate  \\\n",
       "0                           1.5      SGD   4500      6000.0  1.000000   \n",
       "1                           1.5      IDR  5e+06   9000000.0  0.000098   \n",
       "2                           1.5      IDR  9e+06  12000000.0  0.000098   \n",
       "3                           1.5      SGD   3000      9000.0  1.000000   \n",
       "4                           1.5      PHP  60000    120000.0  0.025000   \n",
       "\n",
       "   lower_sgd  higher_sgd index  \\\n",
       "0       4500      6000.0   NaN   \n",
       "1        490       882.0   NaN   \n",
       "2        882      1176.0   NaN   \n",
       "3       3000      9000.0   NaN   \n",
       "4       1500      3000.0   NaN   \n",
       "\n",
       "                                    full_description  yrs_exp  \n",
       "0  Tech in Asia (YC W15) is a media, events, and ...      1.5  \n",
       "1  Description  The focus of our data science tea...      1.5  \n",
       "2  Job Description: Transform large, complex data...      1.5  \n",
       "3  Data Scientist The position is for one of our ...      1.5  \n",
       "4  Job Description We are looking for a Data Scie...      1.5  \n",
       "\n",
       "[5 rows x 22 columns]"
      ]
     },
     "execution_count": 43,
     "metadata": {},
     "output_type": "execute_result"
    }
   ],
   "source": [
    "q2_all_jobs.head()"
   ]
  },
  {
   "cell_type": "markdown",
   "metadata": {
    "collapsed": true
   },
   "source": [
    "__2.1 Clean job title column as target__"
   ]
  },
  {
   "cell_type": "code",
   "execution_count": 44,
   "metadata": {
    "collapsed": true
   },
   "outputs": [],
   "source": [
    "# create column classifying data_scientist and non-data scientists\n",
    "q2_all_jobs['data_scientist'] = q2_all_jobs['job_title'].map(lambda x: 1 if 'data scientist' in x.lower() \n",
    "                                                             else 1 if 'data science' in x.lower() else 0)"
   ]
  },
  {
   "cell_type": "code",
   "execution_count": 45,
   "metadata": {},
   "outputs": [
    {
     "data": {
      "text/plain": [
       "0.9336139896373057"
      ]
     },
     "execution_count": 45,
     "metadata": {},
     "output_type": "execute_result"
    }
   ],
   "source": [
    "# baseline\n",
    "baseline = q2_all_jobs['data_scientist'].sum()/len(q2_all_jobs['job_title'])\n",
    "if baseline < 0.5:\n",
    "    baseline = 1 - baseline\n",
    "baseline"
   ]
  },
  {
   "cell_type": "markdown",
   "metadata": {},
   "source": [
    "__2.2 Feature selection__"
   ]
  },
  {
   "cell_type": "code",
   "execution_count": 46,
   "metadata": {
    "collapsed": true
   },
   "outputs": [],
   "source": [
    "from sklearn.preprocessing import StandardScaler"
   ]
  },
  {
   "cell_type": "code",
   "execution_count": 47,
   "metadata": {
    "collapsed": true
   },
   "outputs": [],
   "source": [
    "# predicting with only description, yrs exp and country\n",
    "country_dum = pd.get_dummies(q2_all_jobs['country'], drop_first=True)\n",
    "X = pd.concat([q2_all_jobs[['full_description','yrs_exp']], country_dum], axis=1)\n",
    "y = q2_all_jobs['data_scientist']"
   ]
  },
  {
   "cell_type": "code",
   "execution_count": 48,
   "metadata": {
    "collapsed": true
   },
   "outputs": [],
   "source": [
    "# create list of stop words\n",
    "my_additional_stop_words = ['data','science', 'scientist']\n",
    "stop_words = text.ENGLISH_STOP_WORDS.union(my_additional_stop_words)\n",
    "\n",
    "#find ngrams (unique terms)\n",
    "tfidf = TfidfVectorizer(ngram_range=(2,3), stop_words=stop_words, sublinear_tf=True, max_df=0.5, max_features=2500)"
   ]
  },
  {
   "cell_type": "code",
   "execution_count": 49,
   "metadata": {
    "scrolled": true
   },
   "outputs": [
    {
     "name": "stderr",
     "output_type": "stream",
     "text": [
      "/usr/local/lib/python3.6/site-packages/sklearn/feature_extraction/text.py:1089: FutureWarning: Conversion of the second argument of issubdtype from `float` to `np.floating` is deprecated. In future, it will be treated as `np.float64 == np.dtype(float).type`.\n",
      "  if hasattr(X, 'dtype') and np.issubdtype(X.dtype, np.float):\n"
     ]
    }
   ],
   "source": [
    "# train test split\n",
    "X_train, X_test, y_train, y_test = train_test_split(X, y, test_size=0.2, random_state=42)\n",
    "\n",
    "X_train_dense = pd.DataFrame(tfidf.fit_transform(X_train['full_description']).todense())\n",
    "X_test_dense = pd.DataFrame(tfidf.transform(X_test['full_description']).todense())"
   ]
  },
  {
   "cell_type": "code",
   "execution_count": 50,
   "metadata": {
    "collapsed": true
   },
   "outputs": [],
   "source": [
    "# scale\n",
    "ss = StandardScaler()\n",
    "X_train_s = pd.DataFrame(ss.fit_transform(X_train.drop('full_description', axis=1)))\n",
    "X_test_s = pd.DataFrame(ss.transform(X_test.drop('full_description', axis=1)))"
   ]
  },
  {
   "cell_type": "code",
   "execution_count": 51,
   "metadata": {
    "collapsed": true
   },
   "outputs": [],
   "source": [
    "# concat tf-idf features with rest of df - reset index and concat for train and test sets\n",
    "X_train.reset_index(drop=True, inplace=True)\n",
    "X_train_dense.reset_index(drop=True, inplace=True)\n",
    "X_train_dense = pd.concat([X_train_dense, X_train_s], axis=1)\n",
    "\n",
    "X_test.reset_index(drop=True, inplace=True)\n",
    "X_test_dense.reset_index(drop=True, inplace=True)\n",
    "X_test_dense = pd.concat([X_test_dense, X_test_s], axis=1)"
   ]
  },
  {
   "cell_type": "code",
   "execution_count": 52,
   "metadata": {},
   "outputs": [
    {
     "data": {
      "text/html": [
       "<div>\n",
       "<style scoped>\n",
       "    .dataframe tbody tr th:only-of-type {\n",
       "        vertical-align: middle;\n",
       "    }\n",
       "\n",
       "    .dataframe tbody tr th {\n",
       "        vertical-align: top;\n",
       "    }\n",
       "\n",
       "    .dataframe thead th {\n",
       "        text-align: right;\n",
       "    }\n",
       "</style>\n",
       "<table border=\"1\" class=\"dataframe\">\n",
       "  <thead>\n",
       "    <tr style=\"text-align: right;\">\n",
       "      <th></th>\n",
       "      <th>0</th>\n",
       "      <th>1</th>\n",
       "      <th>2</th>\n",
       "      <th>3</th>\n",
       "      <th>4</th>\n",
       "      <th>5</th>\n",
       "      <th>6</th>\n",
       "      <th>7</th>\n",
       "      <th>8</th>\n",
       "      <th>9</th>\n",
       "      <th>...</th>\n",
       "      <th>3</th>\n",
       "      <th>4</th>\n",
       "      <th>5</th>\n",
       "      <th>6</th>\n",
       "      <th>7</th>\n",
       "      <th>8</th>\n",
       "      <th>9</th>\n",
       "      <th>10</th>\n",
       "      <th>11</th>\n",
       "      <th>12</th>\n",
       "    </tr>\n",
       "  </thead>\n",
       "  <tbody>\n",
       "    <tr>\n",
       "      <th>0</th>\n",
       "      <td>0.0</td>\n",
       "      <td>0.000000</td>\n",
       "      <td>0.0</td>\n",
       "      <td>0.0</td>\n",
       "      <td>0.000000</td>\n",
       "      <td>0.000000</td>\n",
       "      <td>0.0</td>\n",
       "      <td>0.0</td>\n",
       "      <td>0.0</td>\n",
       "      <td>0.0</td>\n",
       "      <td>...</td>\n",
       "      <td>-0.053311</td>\n",
       "      <td>-0.045038</td>\n",
       "      <td>-0.214865</td>\n",
       "      <td>-0.028467</td>\n",
       "      <td>-0.088045</td>\n",
       "      <td>-0.045038</td>\n",
       "      <td>0.667934</td>\n",
       "      <td>-0.034872</td>\n",
       "      <td>-0.028467</td>\n",
       "      <td>-0.049346</td>\n",
       "    </tr>\n",
       "    <tr>\n",
       "      <th>1</th>\n",
       "      <td>0.0</td>\n",
       "      <td>0.101126</td>\n",
       "      <td>0.0</td>\n",
       "      <td>0.0</td>\n",
       "      <td>0.000000</td>\n",
       "      <td>0.000000</td>\n",
       "      <td>0.0</td>\n",
       "      <td>0.0</td>\n",
       "      <td>0.0</td>\n",
       "      <td>0.0</td>\n",
       "      <td>...</td>\n",
       "      <td>-0.053311</td>\n",
       "      <td>-0.045038</td>\n",
       "      <td>-0.214865</td>\n",
       "      <td>-0.028467</td>\n",
       "      <td>-0.088045</td>\n",
       "      <td>-0.045038</td>\n",
       "      <td>0.667934</td>\n",
       "      <td>-0.034872</td>\n",
       "      <td>-0.028467</td>\n",
       "      <td>-0.049346</td>\n",
       "    </tr>\n",
       "    <tr>\n",
       "      <th>2</th>\n",
       "      <td>0.0</td>\n",
       "      <td>0.000000</td>\n",
       "      <td>0.0</td>\n",
       "      <td>0.0</td>\n",
       "      <td>0.198855</td>\n",
       "      <td>0.209240</td>\n",
       "      <td>0.0</td>\n",
       "      <td>0.0</td>\n",
       "      <td>0.0</td>\n",
       "      <td>0.0</td>\n",
       "      <td>...</td>\n",
       "      <td>-0.053311</td>\n",
       "      <td>-0.045038</td>\n",
       "      <td>-0.214865</td>\n",
       "      <td>-0.028467</td>\n",
       "      <td>-0.088045</td>\n",
       "      <td>-0.045038</td>\n",
       "      <td>-1.497154</td>\n",
       "      <td>-0.034872</td>\n",
       "      <td>-0.028467</td>\n",
       "      <td>-0.049346</td>\n",
       "    </tr>\n",
       "    <tr>\n",
       "      <th>3</th>\n",
       "      <td>0.0</td>\n",
       "      <td>0.000000</td>\n",
       "      <td>0.0</td>\n",
       "      <td>0.0</td>\n",
       "      <td>0.084072</td>\n",
       "      <td>0.088462</td>\n",
       "      <td>0.0</td>\n",
       "      <td>0.0</td>\n",
       "      <td>0.0</td>\n",
       "      <td>0.0</td>\n",
       "      <td>...</td>\n",
       "      <td>-0.053311</td>\n",
       "      <td>-0.045038</td>\n",
       "      <td>-0.214865</td>\n",
       "      <td>-0.028467</td>\n",
       "      <td>-0.088045</td>\n",
       "      <td>-0.045038</td>\n",
       "      <td>-1.497154</td>\n",
       "      <td>-0.034872</td>\n",
       "      <td>-0.028467</td>\n",
       "      <td>-0.049346</td>\n",
       "    </tr>\n",
       "    <tr>\n",
       "      <th>4</th>\n",
       "      <td>0.0</td>\n",
       "      <td>0.000000</td>\n",
       "      <td>0.0</td>\n",
       "      <td>0.0</td>\n",
       "      <td>0.000000</td>\n",
       "      <td>0.000000</td>\n",
       "      <td>0.0</td>\n",
       "      <td>0.0</td>\n",
       "      <td>0.0</td>\n",
       "      <td>0.0</td>\n",
       "      <td>...</td>\n",
       "      <td>-0.053311</td>\n",
       "      <td>-0.045038</td>\n",
       "      <td>-0.214865</td>\n",
       "      <td>-0.028467</td>\n",
       "      <td>-0.088045</td>\n",
       "      <td>-0.045038</td>\n",
       "      <td>0.667934</td>\n",
       "      <td>-0.034872</td>\n",
       "      <td>-0.028467</td>\n",
       "      <td>-0.049346</td>\n",
       "    </tr>\n",
       "  </tbody>\n",
       "</table>\n",
       "<p>5 rows × 2513 columns</p>\n",
       "</div>"
      ],
      "text/plain": [
       "    0         1    2    3         4         5    6    7    8    9     ...     \\\n",
       "0  0.0  0.000000  0.0  0.0  0.000000  0.000000  0.0  0.0  0.0  0.0    ...      \n",
       "1  0.0  0.101126  0.0  0.0  0.000000  0.000000  0.0  0.0  0.0  0.0    ...      \n",
       "2  0.0  0.000000  0.0  0.0  0.198855  0.209240  0.0  0.0  0.0  0.0    ...      \n",
       "3  0.0  0.000000  0.0  0.0  0.084072  0.088462  0.0  0.0  0.0  0.0    ...      \n",
       "4  0.0  0.000000  0.0  0.0  0.000000  0.000000  0.0  0.0  0.0  0.0    ...      \n",
       "\n",
       "         3         4         5         6         7         8         9   \\\n",
       "0 -0.053311 -0.045038 -0.214865 -0.028467 -0.088045 -0.045038  0.667934   \n",
       "1 -0.053311 -0.045038 -0.214865 -0.028467 -0.088045 -0.045038  0.667934   \n",
       "2 -0.053311 -0.045038 -0.214865 -0.028467 -0.088045 -0.045038 -1.497154   \n",
       "3 -0.053311 -0.045038 -0.214865 -0.028467 -0.088045 -0.045038 -1.497154   \n",
       "4 -0.053311 -0.045038 -0.214865 -0.028467 -0.088045 -0.045038  0.667934   \n",
       "\n",
       "         10        11        12  \n",
       "0 -0.034872 -0.028467 -0.049346  \n",
       "1 -0.034872 -0.028467 -0.049346  \n",
       "2 -0.034872 -0.028467 -0.049346  \n",
       "3 -0.034872 -0.028467 -0.049346  \n",
       "4 -0.034872 -0.028467 -0.049346  \n",
       "\n",
       "[5 rows x 2513 columns]"
      ]
     },
     "execution_count": 52,
     "metadata": {},
     "output_type": "execute_result"
    }
   ],
   "source": [
    "X_train_dense.head()"
   ]
  },
  {
   "cell_type": "markdown",
   "metadata": {},
   "source": [
    "__2.3 Model with Logistic Regression, RidgeClassifier__"
   ]
  },
  {
   "cell_type": "code",
   "execution_count": 53,
   "metadata": {
    "collapsed": true
   },
   "outputs": [],
   "source": [
    "from sklearn.metrics import confusion_matrix, classification_report\n",
    "from sklearn.linear_model import LogisticRegressionCV, RidgeClassifierCV, ElasticNetCV"
   ]
  },
  {
   "cell_type": "code",
   "execution_count": 54,
   "metadata": {},
   "outputs": [
    {
     "name": "stdout",
     "output_type": "stream",
     "text": [
      "0.9546925566343042\n",
      "[[567   7]\n",
      " [ 21  23]]\n",
      "             precision    recall  f1-score   support\n",
      "\n",
      "          0       0.96      0.99      0.98       574\n",
      "          1       0.77      0.52      0.62        44\n",
      "\n",
      "avg / total       0.95      0.95      0.95       618\n",
      "\n"
     ]
    }
   ],
   "source": [
    "# try logistic regression model\n",
    "lr = LogisticRegressionCV()\n",
    "lr.fit(X_train_dense, y_train)\n",
    "y_pred = lr.predict(X_test_dense)\n",
    "print(lr.score(X_test_dense, y_test))\n",
    "print(confusion_matrix(y_test,y_pred))\n",
    "print(classification_report(y_test,y_pred))"
   ]
  },
  {
   "cell_type": "code",
   "execution_count": 55,
   "metadata": {},
   "outputs": [
    {
     "name": "stdout",
     "output_type": "stream",
     "text": [
      "0.9530744336569579\n",
      "[[570   4]\n",
      " [ 25  19]]\n",
      "             precision    recall  f1-score   support\n",
      "\n",
      "          0       0.96      0.99      0.98       574\n",
      "          1       0.83      0.43      0.57        44\n",
      "\n",
      "avg / total       0.95      0.95      0.95       618\n",
      "\n"
     ]
    }
   ],
   "source": [
    "# try RidgeClassifierCV\n",
    "ridge = RidgeClassifierCV()\n",
    "ridge.fit(X_train_dense, y_train)\n",
    "y_pred = ridge.predict(X_test_dense)\n",
    "print(ridge.score(X_test_dense, y_test))\n",
    "print(confusion_matrix(y_test,y_pred))\n",
    "print(classification_report(y_test,y_pred))"
   ]
  },
  {
   "cell_type": "code",
   "execution_count": 56,
   "metadata": {},
   "outputs": [
    {
     "name": "stderr",
     "output_type": "stream",
     "text": [
      "/usr/local/lib/python3.6/site-packages/sklearn/feature_extraction/text.py:1089: FutureWarning: Conversion of the second argument of issubdtype from `float` to `np.floating` is deprecated. In future, it will be treated as `np.float64 == np.dtype(float).type`.\n",
      "  if hasattr(X, 'dtype') and np.issubdtype(X.dtype, np.float):\n"
     ]
    }
   ],
   "source": [
    "# get top 20 tf-idf terms\n",
    "features = tfidf.get_feature_names()\n",
    "feature_array = np.array(tfidf.get_feature_names())\n",
    "tfidf_sorting = np.argsort(tfidf.fit_transform(X_train['full_description']).toarray()).flatten()[::-1]\n",
    "n = 20\n",
    "top_n = feature_array[tfidf_sorting][:n]"
   ]
  },
  {
   "cell_type": "code",
   "execution_count": 57,
   "metadata": {
    "scrolled": true
   },
   "outputs": [
    {
     "data": {
      "text/plain": [
       "array(['office hours', 'days work week', 'work week', 'working location',\n",
       "       'days work', '6778 5288', 'singapore 079120 tel', 'fax 6578',\n",
       "       'fax 6578 7400', '5288 fax', '5288 fax 6578', '6578 7400',\n",
       "       '78 shenton', '6778 5288 fax', 'tel 6778 5288', '78 shenton way',\n",
       "       'shenton way 09', 'way 09', 'way 09 01', 'tel 6778'], dtype='<U41')"
      ]
     },
     "execution_count": 57,
     "metadata": {},
     "output_type": "execute_result"
    }
   ],
   "source": [
    "top_n"
   ]
  }
 ],
 "metadata": {
  "kernelspec": {
   "display_name": "Python 3",
   "language": "python",
   "name": "tfkernel"
  },
  "language_info": {
   "codemirror_mode": {
    "name": "ipython",
    "version": 3
   },
   "file_extension": ".py",
   "mimetype": "text/x-python",
   "name": "python",
   "nbconvert_exporter": "python",
   "pygments_lexer": "ipython3",
   "version": "3.6.2"
  }
 },
 "nbformat": 4,
 "nbformat_minor": 2
}
