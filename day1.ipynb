{
  "nbformat": 4,
  "nbformat_minor": 0,
  "metadata": {
    "colab": {
      "name": "day1.ipynb",
      "version": "0.3.2",
      "provenance": [],
      "collapsed_sections": [],
      "toc_visible": true,
      "include_colab_link": true
    },
    "kernelspec": {
      "name": "python3",
      "display_name": "Python 3"
    }
  },
  "cells": [
    {
      "cell_type": "markdown",
      "metadata": {
        "id": "view-in-github",
        "colab_type": "text"
      },
      "source": [
        "<a href=\"https://colab.research.google.com/github/yinglinglow/GA_projects/blob/master/day1.ipynb\" target=\"_parent\"><img src=\"https://colab.research.google.com/assets/colab-badge.svg\" alt=\"Open In Colab\"/></a>"
      ]
    },
    {
      "metadata": {
        "id": "zc7CyHF34GZ2",
        "colab_type": "text"
      },
      "cell_type": "markdown",
      "source": [
        "## **String Manipulation**"
      ]
    },
    {
      "metadata": {
        "id": "bFEJMBWgt82C",
        "colab_type": "text"
      },
      "cell_type": "markdown",
      "source": [
        "Create a string with the filepath C:/Users/my_filename.csv and assign it to a variable called filepath"
      ]
    },
    {
      "metadata": {
        "id": "7Qszn0KVuOQj",
        "colab_type": "code",
        "colab": {}
      },
      "cell_type": "code",
      "source": [
        "filepath = 'C:/Users/my_filename.csv'"
      ],
      "execution_count": 0,
      "outputs": []
    },
    {
      "metadata": {
        "id": "J9lO-Y8su2Dx",
        "colab_type": "text"
      },
      "cell_type": "markdown",
      "source": [
        "From the variable filepath, extract the filename (i.e. my_filename) and save it to a variable called filename"
      ]
    },
    {
      "metadata": {
        "id": "3zuhlecMvBdK",
        "colab_type": "code",
        "colab": {
          "base_uri": "https://localhost:8080/",
          "height": 34
        },
        "outputId": "c1d62db2-7dcb-45f2-9f8f-5f403950e3b3"
      },
      "cell_type": "code",
      "source": [
        "filename = filepath.split('/')[-1].split('.')[0]\n",
        "filename"
      ],
      "execution_count": 15,
      "outputs": [
        {
          "output_type": "execute_result",
          "data": {
            "text/plain": [
              "'my_filename'"
            ]
          },
          "metadata": {
            "tags": []
          },
          "execution_count": 15
        }
      ]
    },
    {
      "metadata": {
        "id": "5WPvxe5cvN9B",
        "colab_type": "text"
      },
      "cell_type": "markdown",
      "source": [
        "Change your filepath to 'C:/Users/Documents/my_otherfilename.json'. \n",
        "\n",
        "Does the same code work to extract the filename (i.e. my_otherfilename)?"
      ]
    },
    {
      "metadata": {
        "id": "jKVLxwWwvlO6",
        "colab_type": "code",
        "colab": {
          "base_uri": "https://localhost:8080/",
          "height": 34
        },
        "outputId": "9feb6087-36ae-4f10-8bf3-2b2df47af7a4"
      },
      "cell_type": "code",
      "source": [
        "filepath = 'C:/Users/Documents/my_otherfilename.json'\n",
        "filename = filepath.split('/')[-1].split('.')[0]\n",
        "filename"
      ],
      "execution_count": 16,
      "outputs": [
        {
          "output_type": "execute_result",
          "data": {
            "text/plain": [
              "'my_otherfilename'"
            ]
          },
          "metadata": {
            "tags": []
          },
          "execution_count": 16
        }
      ]
    },
    {
      "metadata": {
        "id": "xCedtUzHwKWZ",
        "colab_type": "text"
      },
      "cell_type": "markdown",
      "source": [
        "Print the filename variable in uppercase"
      ]
    },
    {
      "metadata": {
        "id": "bf5JVNntwkqj",
        "colab_type": "code",
        "colab": {
          "base_uri": "https://localhost:8080/",
          "height": 34
        },
        "outputId": "d5e0e22c-f07f-4917-999e-5d2a69972cec"
      },
      "cell_type": "code",
      "source": [
        "print(filename.upper())"
      ],
      "execution_count": 17,
      "outputs": [
        {
          "output_type": "stream",
          "text": [
            "MY_OTHERFILENAME\n"
          ],
          "name": "stdout"
        }
      ]
    },
    {
      "metadata": {
        "id": "pUT8z4bdw6RU",
        "colab_type": "text"
      },
      "cell_type": "markdown",
      "source": [
        "How long is the filename (number of characters)?"
      ]
    },
    {
      "metadata": {
        "id": "Tb7fxFtGxAhX",
        "colab_type": "code",
        "colab": {
          "base_uri": "https://localhost:8080/",
          "height": 34
        },
        "outputId": "b323ccb7-3985-4685-c83d-7f35eeca2f0b"
      },
      "cell_type": "code",
      "source": [
        "len(filename)"
      ],
      "execution_count": 18,
      "outputs": [
        {
          "output_type": "execute_result",
          "data": {
            "text/plain": [
              "16"
            ]
          },
          "metadata": {
            "tags": []
          },
          "execution_count": 18
        }
      ]
    },
    {
      "metadata": {
        "id": "l-cJAtjYubVr",
        "colab_type": "text"
      },
      "cell_type": "markdown",
      "source": [
        "Bonus: Create a string with the filepath C:\\Users\\12345.csv; replace the \\ with / and assign it to a variable called filepath"
      ]
    },
    {
      "metadata": {
        "id": "cYsy559t23Ew",
        "colab_type": "code",
        "outputId": "8f6e28bb-46fa-4427-ec11-ade455e420ec",
        "colab": {
          "base_uri": "https://localhost:8080/",
          "height": 34
        }
      },
      "cell_type": "code",
      "source": [
        "filepath = r'C:\\Users\\12345.csv'.replace('\\\\', '/')\n",
        "filepath"
      ],
      "execution_count": 4,
      "outputs": [
        {
          "output_type": "execute_result",
          "data": {
            "text/plain": [
              "'C:/Users/12345.csv'"
            ]
          },
          "metadata": {
            "tags": []
          },
          "execution_count": 4
        }
      ]
    },
    {
      "metadata": {
        "id": "IxVFaAqPwyp7",
        "colab_type": "text"
      },
      "cell_type": "markdown",
      "source": [
        "## String Cleaning"
      ]
    },
    {
      "metadata": {
        "id": "QHT2cSQ841sC",
        "colab_type": "code",
        "outputId": "591fe507-2d5b-40d0-d079-fd1510f7e2d2",
        "colab": {
          "base_uri": "https://localhost:8080/",
          "height": 34
        }
      },
      "cell_type": "code",
      "source": [
        "'     hello   hihi.  '.strip()"
      ],
      "execution_count": 0,
      "outputs": [
        {
          "output_type": "execute_result",
          "data": {
            "text/plain": [
              "'hello   hihi.'"
            ]
          },
          "metadata": {
            "tags": []
          },
          "execution_count": 7
        }
      ]
    },
    {
      "metadata": {
        "id": "EysBNhZJ4-_k",
        "colab_type": "code",
        "outputId": "be678bd9-e005-4851-cce5-164043ee08ac",
        "colab": {
          "base_uri": "https://localhost:8080/",
          "height": 34
        }
      },
      "cell_type": "code",
      "source": [
        "' '.join('     hello   hihi.  '.split())"
      ],
      "execution_count": 0,
      "outputs": [
        {
          "output_type": "execute_result",
          "data": {
            "text/plain": [
              "'hello hihi.'"
            ]
          },
          "metadata": {
            "tags": []
          },
          "execution_count": 11
        }
      ]
    },
    {
      "metadata": {
        "id": "Yzsgxqlk5tib",
        "colab_type": "text"
      },
      "cell_type": "markdown",
      "source": [
        "## **String Formatting**"
      ]
    },
    {
      "metadata": {
        "id": "k8fM6CeD5Vtg",
        "colab_type": "code",
        "outputId": "447f2306-0132-44e5-befe-0e57838b2477",
        "colab": {
          "base_uri": "https://localhost:8080/",
          "height": 51
        }
      },
      "cell_type": "code",
      "source": [
        "name = 'Jonathan'\n",
        "nickname = 'Jon'\n",
        "print(f\"\"\"Hi my name is {name}.\n",
        "You can call me {nickname}.\"\"\")"
      ],
      "execution_count": 0,
      "outputs": [
        {
          "output_type": "stream",
          "text": [
            "Hi my name is Jonathan.\n",
            "You can call me Jon.\n"
          ],
          "name": "stdout"
        }
      ]
    },
    {
      "metadata": {
        "id": "nDVnyFMI5pi6",
        "colab_type": "code",
        "outputId": "c891f1ba-d4bc-44a6-ab80-b815ffc96db9",
        "colab": {
          "base_uri": "https://localhost:8080/",
          "height": 34
        }
      },
      "cell_type": "code",
      "source": [
        "'{2}, {1}, {0}'.format('a', 'b', 'c')"
      ],
      "execution_count": 0,
      "outputs": [
        {
          "output_type": "execute_result",
          "data": {
            "text/plain": [
              "'c, b, a'"
            ]
          },
          "metadata": {
            "tags": []
          },
          "execution_count": 14
        }
      ]
    },
    {
      "metadata": {
        "id": "IyFfD1iw6bcg",
        "colab_type": "code",
        "outputId": "9dbb50f5-b706-4d33-da3d-b8cd6ddc6d1f",
        "colab": {
          "base_uri": "https://localhost:8080/",
          "height": 34
        }
      },
      "cell_type": "code",
      "source": [
        "'{:,}'.format(1234567890)"
      ],
      "execution_count": 0,
      "outputs": [
        {
          "output_type": "execute_result",
          "data": {
            "text/plain": [
              "'1,234,567,890'"
            ]
          },
          "metadata": {
            "tags": []
          },
          "execution_count": 15
        }
      ]
    },
    {
      "metadata": {
        "id": "XKRCOkpu6gcW",
        "colab_type": "code",
        "outputId": "9606139a-5893-4670-8e61-2d605a52f855",
        "colab": {
          "base_uri": "https://localhost:8080/",
          "height": 34
        }
      },
      "cell_type": "code",
      "source": [
        "'two decimal places percentage: {:.2%}'.format(0.012345)"
      ],
      "execution_count": 0,
      "outputs": [
        {
          "output_type": "execute_result",
          "data": {
            "text/plain": [
              "'two decimal places percentage: 1.23%'"
            ]
          },
          "metadata": {
            "tags": []
          },
          "execution_count": 17
        }
      ]
    },
    {
      "metadata": {
        "id": "4SydCmqq6qjB",
        "colab_type": "code",
        "colab": {}
      },
      "cell_type": "code",
      "source": [
        ""
      ],
      "execution_count": 0,
      "outputs": []
    },
    {
      "metadata": {
        "id": "3DhcY2XrvGvj",
        "colab_type": "text"
      },
      "cell_type": "markdown",
      "source": [
        "## Reading CSV"
      ]
    },
    {
      "metadata": {
        "id": "eT5j9xw9vJ4t",
        "colab_type": "code",
        "colab": {}
      },
      "cell_type": "code",
      "source": [
        "import pandas as pd"
      ],
      "execution_count": 0,
      "outputs": []
    },
    {
      "metadata": {
        "id": "Y2ccI0SvvOaK",
        "colab_type": "code",
        "colab": {}
      },
      "cell_type": "code",
      "source": [
        "pd.read_csv('pipe_csv.csv', sep='|', usecols=['colA', 'colB', 'colY', 'colZ']), dtype={'colA':str}.head()"
      ],
      "execution_count": 0,
      "outputs": []
    },
    {
      "metadata": {
        "id": "0wsrnpBDwGRC",
        "colab_type": "code",
        "colab": {}
      },
      "cell_type": "code",
      "source": [
        "pd.read_csv('tab_csv.csv', sep='\\t', skiprows=1, headers=['col1', 'col2', 'col3'], \n",
        "            keep_default_na=False, na_values='null_values')"
      ],
      "execution_count": 0,
      "outputs": []
    },
    {
      "metadata": {
        "id": "vJXpQKAWr4Gy",
        "colab_type": "text"
      },
      "cell_type": "markdown",
      "source": [
        "## Variable Assignment"
      ]
    },
    {
      "metadata": {
        "id": "kl38j7For6Jz",
        "colab_type": "code",
        "colab": {}
      },
      "cell_type": "code",
      "source": [
        "test_csv_filepath = 'C:/testing.csv'"
      ],
      "execution_count": 0,
      "outputs": []
    },
    {
      "metadata": {
        "id": "oZhgXJMgsAvJ",
        "colab_type": "code",
        "outputId": "ba5904d2-20a6-45ea-ac37-d8e5b54ca52c",
        "colab": {
          "base_uri": "https://localhost:8080/",
          "height": 34
        }
      },
      "cell_type": "code",
      "source": [
        "test_csv_filepath.split('/')[1]"
      ],
      "execution_count": 0,
      "outputs": [
        {
          "output_type": "execute_result",
          "data": {
            "text/plain": [
              "'testing.csv'"
            ]
          },
          "metadata": {
            "tags": []
          },
          "execution_count": 2
        }
      ]
    },
    {
      "metadata": {
        "id": "lXxmkb2Ysj0w",
        "colab_type": "text"
      },
      "cell_type": "markdown",
      "source": [
        "## Global variables"
      ]
    },
    {
      "metadata": {
        "id": "BWnrImmwsMDn",
        "colab_type": "code",
        "outputId": "241593c7-bd3b-44cb-96df-e2d2f56329cb",
        "colab": {
          "base_uri": "https://localhost:8080/",
          "height": 68
        }
      },
      "cell_type": "code",
      "source": [
        "def change_local_x():\n",
        "  x = 10\n",
        "  print(f'local x is {x}')\n",
        "\n",
        "  \n",
        "x = 100 # global x\n",
        "print(f'global x is {x}')\n",
        "change_local_x()\n",
        "print(f'global x is still {x}')"
      ],
      "execution_count": 0,
      "outputs": [
        {
          "output_type": "stream",
          "text": [
            "global x is 100\n",
            "local x is 10\n",
            "global x is still 100\n"
          ],
          "name": "stdout"
        }
      ]
    },
    {
      "metadata": {
        "id": "uQsG6ve_snT-",
        "colab_type": "code",
        "outputId": "eebaaca5-ddc7-4561-eb85-d07e09af6968",
        "colab": {
          "base_uri": "https://localhost:8080/",
          "height": 68
        }
      },
      "cell_type": "code",
      "source": [
        "def change_global_x():\n",
        "  global x \n",
        "  x = 10\n",
        "  print(f'local x is {x}')\n",
        "\n",
        "  \n",
        "x = 100 # global x\n",
        "print(f'global x is {x}')\n",
        "change_global_x()\n",
        "print(f'global x is now {x}')"
      ],
      "execution_count": 0,
      "outputs": [
        {
          "output_type": "stream",
          "text": [
            "global x is 100\n",
            "local x is 10\n",
            "global x is now 10\n"
          ],
          "name": "stdout"
        }
      ]
    },
    {
      "metadata": {
        "id": "hJdRuUc1t3Zr",
        "colab_type": "code",
        "outputId": "2bccb931-e184-40d8-f0b4-685ff581b294",
        "colab": {
          "base_uri": "https://localhost:8080/",
          "height": 68
        }
      },
      "cell_type": "code",
      "source": [
        "def change_local_list(x):\n",
        "  x.append(11)\n",
        "  print(f'local x is {x}')\n",
        "\n",
        "  \n",
        "x = [10] # global x\n",
        "print(f'global x is {x}')\n",
        "change_local_list(x)\n",
        "print(f'global x has changed to {x}. Why?')"
      ],
      "execution_count": 0,
      "outputs": [
        {
          "output_type": "stream",
          "text": [
            "global x is [10]\n",
            "local x is [10, 11]\n",
            "global x has changed to [10, 11]. Why?\n"
          ],
          "name": "stdout"
        }
      ]
    },
    {
      "metadata": {
        "id": "PDnZbtUmuUPR",
        "colab_type": "code",
        "colab": {}
      },
      "cell_type": "code",
      "source": [
        ""
      ],
      "execution_count": 0,
      "outputs": []
    }
  ]
}