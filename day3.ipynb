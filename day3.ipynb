{
  "nbformat": 4,
  "nbformat_minor": 0,
  "metadata": {
    "colab": {
      "name": "day3.ipynb",
      "version": "0.3.2",
      "provenance": [],
      "include_colab_link": true
    },
    "kernelspec": {
      "name": "python3",
      "display_name": "Python 3"
    }
  },
  "cells": [
    {
      "cell_type": "markdown",
      "metadata": {
        "id": "view-in-github",
        "colab_type": "text"
      },
      "source": [
        "<a href=\"https://colab.research.google.com/github/yinglinglow/GA_projects/blob/master/day3.ipynb\" target=\"_parent\"><img src=\"https://colab.research.google.com/assets/colab-badge.svg\" alt=\"Open In Colab\"/></a>"
      ]
    },
    {
      "metadata": {
        "id": "0dIWo6MJ7zZd",
        "colab_type": "text"
      },
      "cell_type": "markdown",
      "source": [
        "## Lists"
      ]
    },
    {
      "metadata": {
        "id": "wNnnmF1x8Ae4",
        "colab_type": "text"
      },
      "cell_type": "markdown",
      "source": [
        "Create a list of tickers in the order of: AAPL, ADBE, IBM.\n",
        "\n",
        "Print the first ticker in the list.\n",
        "\n",
        "Print the length of the list."
      ]
    },
    {
      "metadata": {
        "id": "BumlcnUK71fV",
        "colab_type": "code",
        "colab": {
          "base_uri": "https://localhost:8080/",
          "height": 51
        },
        "outputId": "a1c8e3cc-fd12-4e1f-9e38-4a6a1aa8a675"
      },
      "cell_type": "code",
      "source": [
        "tickers = [\"AAPL\", \"ADBE\", \"IBM\"]\n",
        "print(tickers[0])\n",
        "print(len(tickers))"
      ],
      "execution_count": 12,
      "outputs": [
        {
          "output_type": "stream",
          "text": [
            "AAPL\n",
            "3\n"
          ],
          "name": "stdout"
        }
      ]
    },
    {
      "metadata": {
        "id": "Ov8uE2rU8u9r",
        "colab_type": "text"
      },
      "cell_type": "markdown",
      "source": [
        "Add a new ticker ORCL to the end of the list"
      ]
    },
    {
      "metadata": {
        "id": "ku_Fo4jG82_E",
        "colab_type": "code",
        "colab": {
          "base_uri": "https://localhost:8080/",
          "height": 34
        },
        "outputId": "cb46d803-f357-419e-b63b-d4463324c2c8"
      },
      "cell_type": "code",
      "source": [
        "tickers.append('ORCL')\n",
        "tickers"
      ],
      "execution_count": 13,
      "outputs": [
        {
          "output_type": "execute_result",
          "data": {
            "text/plain": [
              "['AAPL', 'ADBE', 'IBM', 'ORCL']"
            ]
          },
          "metadata": {
            "tags": []
          },
          "execution_count": 13
        }
      ]
    },
    {
      "metadata": {
        "id": "edyddSRO8yH2",
        "colab_type": "text"
      },
      "cell_type": "markdown",
      "source": [
        "Create another list called additional_tickers, with GOOG and NFLX.\n",
        "Add the lists together to form a new list called full_tickers"
      ]
    },
    {
      "metadata": {
        "id": "TNN1nfqP-eav",
        "colab_type": "code",
        "colab": {
          "base_uri": "https://localhost:8080/",
          "height": 34
        },
        "outputId": "306ffa26-8968-456e-d1e8-9e68f16767e0"
      },
      "cell_type": "code",
      "source": [
        "additional_tickers = ['GOOG', 'NFLX']\n",
        "full_tickers = tickers + additional_tickers\n",
        "full_tickers"
      ],
      "execution_count": 14,
      "outputs": [
        {
          "output_type": "execute_result",
          "data": {
            "text/plain": [
              "['AAPL', 'ADBE', 'IBM', 'ORCL', 'GOOG', 'NFLX']"
            ]
          },
          "metadata": {
            "tags": []
          },
          "execution_count": 14
        }
      ]
    },
    {
      "metadata": {
        "id": "WQoVsiB3-d-Z",
        "colab_type": "text"
      },
      "cell_type": "markdown",
      "source": [
        "## For Loops"
      ]
    },
    {
      "metadata": {
        "id": "hulFjrGi_evo",
        "colab_type": "text"
      },
      "cell_type": "markdown",
      "source": [
        "For each ticker in the list full_tickers, generate and print a csv filename given a filepath (C:/Users/Documents)\n",
        "\n",
        "i.e. C:/Users/Documents/AAPL.csv"
      ]
    },
    {
      "metadata": {
        "id": "FxeIyelb_vJv",
        "colab_type": "code",
        "colab": {
          "base_uri": "https://localhost:8080/",
          "height": 119
        },
        "outputId": "a816a914-a6d2-4355-f32c-e3765771d58f"
      },
      "cell_type": "code",
      "source": [
        "for ticker in full_tickers:\n",
        "  print(f'C:/Users/Documents/{ticker}.csv')"
      ],
      "execution_count": 15,
      "outputs": [
        {
          "output_type": "stream",
          "text": [
            "C:/Users/Documents/AAPL.csv\n",
            "C:/Users/Documents/ADBE.csv\n",
            "C:/Users/Documents/IBM.csv\n",
            "C:/Users/Documents/ORCL.csv\n",
            "C:/Users/Documents/GOOG.csv\n",
            "C:/Users/Documents/NFLX.csv\n"
          ],
          "name": "stdout"
        }
      ]
    },
    {
      "metadata": {
        "id": "VFUtNI5KE2_j",
        "colab_type": "text"
      },
      "cell_type": "markdown",
      "source": [
        "Save the filenames to a new list called full_filepaths"
      ]
    },
    {
      "metadata": {
        "id": "rfHdfq_EGom5",
        "colab_type": "code",
        "colab": {
          "base_uri": "https://localhost:8080/",
          "height": 119
        },
        "outputId": "eb41df84-cc6b-42a0-f180-c68baa942a28"
      },
      "cell_type": "code",
      "source": [
        "full_filepaths = []\n",
        "\n",
        "for ticker in full_tickers:\n",
        "  full_filepaths.append(f'C:/Users/Documents/{ticker}.csv')\n",
        "\n",
        "full_filepaths"
      ],
      "execution_count": 22,
      "outputs": [
        {
          "output_type": "execute_result",
          "data": {
            "text/plain": [
              "['C:/Users/Documents/AAPL.csv',\n",
              " 'C:/Users/Documents/ADBE.csv',\n",
              " 'C:/Users/Documents/IBM.csv',\n",
              " 'C:/Users/Documents/ORCL.csv',\n",
              " 'C:/Users/Documents/GOOG.csv',\n",
              " 'C:/Users/Documents/NFLX.csv']"
            ]
          },
          "metadata": {
            "tags": []
          },
          "execution_count": 22
        }
      ]
    },
    {
      "metadata": {
        "id": "tpSwTB4MErJZ",
        "colab_type": "text"
      },
      "cell_type": "markdown",
      "source": [
        "What is another way to do it?"
      ]
    },
    {
      "metadata": {
        "id": "wzC4EnSAExOH",
        "colab_type": "code",
        "colab": {
          "base_uri": "https://localhost:8080/",
          "height": 119
        },
        "outputId": "0110ae81-4871-44f2-8c2e-c2d8bc49758e"
      },
      "cell_type": "code",
      "source": [
        "full_filepaths = [f'C:/Users/Documents/{ticker}.csv' for ticker in full_tickers]\n",
        "full_filepaths"
      ],
      "execution_count": 23,
      "outputs": [
        {
          "output_type": "execute_result",
          "data": {
            "text/plain": [
              "['C:/Users/Documents/AAPL.csv',\n",
              " 'C:/Users/Documents/ADBE.csv',\n",
              " 'C:/Users/Documents/IBM.csv',\n",
              " 'C:/Users/Documents/ORCL.csv',\n",
              " 'C:/Users/Documents/GOOG.csv',\n",
              " 'C:/Users/Documents/NFLX.csv']"
            ]
          },
          "metadata": {
            "tags": []
          },
          "execution_count": 23
        }
      ]
    },
    {
      "metadata": {
        "id": "7G3v6BSr_u2K",
        "colab_type": "text"
      },
      "cell_type": "markdown",
      "source": [
        "## Additional"
      ]
    },
    {
      "metadata": {
        "id": "r25tbOPS-5EM",
        "colab_type": "text"
      },
      "cell_type": "markdown",
      "source": [
        "For each ticker in the list full_tickers, print 'Ticker {number}: {ticker}' where number is its index/position in the list, beginning from 0. i.e.\n",
        "\n",
        "Ticker 0: AAPL\n",
        "Ticker 1: ADBE"
      ]
    },
    {
      "metadata": {
        "id": "5hG9GnmbB2Vh",
        "colab_type": "code",
        "colab": {
          "base_uri": "https://localhost:8080/",
          "height": 119
        },
        "outputId": "05d1f159-b05f-424e-a73e-4cbe9aec27fe"
      },
      "cell_type": "code",
      "source": [
        "index = 0\n",
        "for ticker in full_tickers:\n",
        "  print(f'Ticker {index}: {ticker}')\n",
        "  index += 1"
      ],
      "execution_count": 18,
      "outputs": [
        {
          "output_type": "stream",
          "text": [
            "Ticker 0: AAPL\n",
            "Ticker 1: ADBE\n",
            "Ticker 2: IBM\n",
            "Ticker 3: ORCL\n",
            "Ticker 4: GOOG\n",
            "Ticker 5: NFLX\n"
          ],
          "name": "stdout"
        }
      ]
    },
    {
      "metadata": {
        "id": "m2EAfaz6B2md",
        "colab_type": "text"
      },
      "cell_type": "markdown",
      "source": [
        "What is another way to do it?"
      ]
    },
    {
      "metadata": {
        "id": "VP1dsy0iBbcZ",
        "colab_type": "code",
        "colab": {
          "base_uri": "https://localhost:8080/",
          "height": 119
        },
        "outputId": "eeec3061-b3e5-4905-fe60-6e95289c6b8f"
      },
      "cell_type": "code",
      "source": [
        "for index, ticker in enumerate(full_tickers):\n",
        "  print(f'Ticker {index}: {ticker}')"
      ],
      "execution_count": 17,
      "outputs": [
        {
          "output_type": "stream",
          "text": [
            "Ticker 0: AAPL\n",
            "Ticker 1: ADBE\n",
            "Ticker 2: IBM\n",
            "Ticker 3: ORCL\n",
            "Ticker 4: GOOG\n",
            "Ticker 5: NFLX\n"
          ],
          "name": "stdout"
        }
      ]
    },
    {
      "metadata": {
        "id": "xsx4-Uc-CK6G",
        "colab_type": "text"
      },
      "cell_type": "markdown",
      "source": [
        "## Bonus:\n",
        "Create a list of the ticker's full names: APPLE, ADOBE, IBM, ORACLE, GOOGLE, NETFLIX\n",
        "\n",
        "Print the short form of the ticker, followed by the full name (i.e. APPL: APPLE)"
      ]
    },
    {
      "metadata": {
        "id": "GeoB9l8tCNV6",
        "colab_type": "code",
        "colab": {
          "base_uri": "https://localhost:8080/",
          "height": 119
        },
        "outputId": "682ed000-6b5e-4edb-9c55-fa97fa9feb11"
      },
      "cell_type": "code",
      "source": [
        "full_names = ['APPLE', 'ADOBE', 'IBM', 'ORACLE', 'GOOGLE', 'NETFLIX']\n",
        "\n",
        "for name, ticker in zip(full_names, full_tickers):\n",
        "  print(f'{ticker}: {name}')"
      ],
      "execution_count": 21,
      "outputs": [
        {
          "output_type": "stream",
          "text": [
            "AAPL: APPLE\n",
            "ADBE: ADOBE\n",
            "IBM: IBM\n",
            "ORCL: ORACLE\n",
            "GOOG: GOOGLE\n",
            "NFLX: NETFLIX\n"
          ],
          "name": "stdout"
        }
      ]
    },
    {
      "metadata": {
        "id": "ZhE336PfEjVY",
        "colab_type": "code",
        "colab": {}
      },
      "cell_type": "code",
      "source": [
        ""
      ],
      "execution_count": 0,
      "outputs": []
    },
    {
      "metadata": {
        "id": "sNBQr15P7UIk",
        "colab_type": "code",
        "colab": {}
      },
      "cell_type": "code",
      "source": [
        "- Lists\n",
        "- Loops\n",
        "- DataFrames Join\n",
        "- String Operations"
      ],
      "execution_count": 0,
      "outputs": []
    }
  ]
}