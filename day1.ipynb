{
  "nbformat": 4,
  "nbformat_minor": 0,
  "metadata": {
    "colab": {
      "name": "day1.ipynb",
      "version": "0.3.2",
      "provenance": [],
      "collapsed_sections": [],
      "toc_visible": true,
      "include_colab_link": true
    },
    "kernelspec": {
      "name": "python3",
      "display_name": "Python 3"
    }
  },
  "cells": [
    {
      "cell_type": "markdown",
      "metadata": {
        "id": "view-in-github",
        "colab_type": "text"
      },
      "source": [
        "<a href=\"https://colab.research.google.com/github/yinglinglow/GA_projects/blob/master/day1.ipynb\" target=\"_parent\"><img src=\"https://colab.research.google.com/assets/colab-badge.svg\" alt=\"Open In Colab\"/></a>"
      ]
    },
    {
      "metadata": {
        "id": "zc7CyHF34GZ2",
        "colab_type": "text"
      },
      "cell_type": "markdown",
      "source": [
        "## **String Manipulation**"
      ]
    },
    {
      "metadata": {
        "id": "bFEJMBWgt82C",
        "colab_type": "text"
      },
      "cell_type": "markdown",
      "source": [
        "Create a string with the filepath C:/Users/my_filename.csv and assign it to a variable called filepath"
      ]
    },
    {
      "metadata": {
        "id": "7Qszn0KVuOQj",
        "colab_type": "code",
        "colab": {}
      },
      "cell_type": "code",
      "source": [
        "filepath = 'C:/Users/my_filename.csv'"
      ],
      "execution_count": 0,
      "outputs": []
    },
    {
      "metadata": {
        "id": "q_wOpzEoxdGx",
        "colab_type": "text"
      },
      "cell_type": "markdown",
      "source": [
        "Print the fourth character of the filepath"
      ]
    },
    {
      "metadata": {
        "id": "Zo9nfFo_xcX4",
        "colab_type": "code",
        "outputId": "f7d156e5-2f78-47ea-ba0d-3479ac0be80a",
        "colab": {
          "base_uri": "https://localhost:8080/",
          "height": 34
        }
      },
      "cell_type": "code",
      "source": [
        "filepath[3]"
      ],
      "execution_count": 0,
      "outputs": [
        {
          "output_type": "execute_result",
          "data": {
            "text/plain": [
              "'U'"
            ]
          },
          "metadata": {
            "tags": []
          },
          "execution_count": 21
        }
      ]
    },
    {
      "metadata": {
        "id": "C12k4PDgxQKA",
        "colab_type": "text"
      },
      "cell_type": "markdown",
      "source": [
        "Print the first 2 characters of the filepath"
      ]
    },
    {
      "metadata": {
        "id": "s-yrUugQxViy",
        "colab_type": "code",
        "outputId": "31e195cb-96b6-4757-b32a-cd78a9bdd2b9",
        "colab": {
          "base_uri": "https://localhost:8080/",
          "height": 34
        }
      },
      "cell_type": "code",
      "source": [
        "filepath[:2]"
      ],
      "execution_count": 0,
      "outputs": [
        {
          "output_type": "execute_result",
          "data": {
            "text/plain": [
              "'C:'"
            ]
          },
          "metadata": {
            "tags": []
          },
          "execution_count": 23
        }
      ]
    },
    {
      "metadata": {
        "id": "J9lO-Y8su2Dx",
        "colab_type": "text"
      },
      "cell_type": "markdown",
      "source": [
        "From the variable filepath, extract the filename (i.e. my_filename) and save it to a variable called filename"
      ]
    },
    {
      "metadata": {
        "id": "3zuhlecMvBdK",
        "colab_type": "code",
        "outputId": "c1d62db2-7dcb-45f2-9f8f-5f403950e3b3",
        "colab": {
          "base_uri": "https://localhost:8080/",
          "height": 34
        }
      },
      "cell_type": "code",
      "source": [
        "filename = filepath.split('/')[-1].split('.')[0]\n",
        "filename"
      ],
      "execution_count": 0,
      "outputs": [
        {
          "output_type": "execute_result",
          "data": {
            "text/plain": [
              "'my_filename'"
            ]
          },
          "metadata": {
            "tags": []
          },
          "execution_count": 15
        }
      ]
    },
    {
      "metadata": {
        "id": "5WPvxe5cvN9B",
        "colab_type": "text"
      },
      "cell_type": "markdown",
      "source": [
        "Change your filepath to 'C:/Users/Documents/my_otherfilename.json'. \n",
        "\n",
        "Does the same code work to extract the filename (i.e. my_otherfilename)?"
      ]
    },
    {
      "metadata": {
        "id": "jKVLxwWwvlO6",
        "colab_type": "code",
        "outputId": "9feb6087-36ae-4f10-8bf3-2b2df47af7a4",
        "colab": {
          "base_uri": "https://localhost:8080/",
          "height": 34
        }
      },
      "cell_type": "code",
      "source": [
        "filepath = 'C:/Users/Documents/my_otherfilename.json'\n",
        "filename = filepath.split('/')[-1].split('.')[0]\n",
        "filename"
      ],
      "execution_count": 0,
      "outputs": [
        {
          "output_type": "execute_result",
          "data": {
            "text/plain": [
              "'my_otherfilename'"
            ]
          },
          "metadata": {
            "tags": []
          },
          "execution_count": 16
        }
      ]
    },
    {
      "metadata": {
        "id": "xCedtUzHwKWZ",
        "colab_type": "text"
      },
      "cell_type": "markdown",
      "source": [
        "Print the filename variable in uppercase"
      ]
    },
    {
      "metadata": {
        "id": "bf5JVNntwkqj",
        "colab_type": "code",
        "outputId": "d5e0e22c-f07f-4917-999e-5d2a69972cec",
        "colab": {
          "base_uri": "https://localhost:8080/",
          "height": 34
        }
      },
      "cell_type": "code",
      "source": [
        "print(filename.upper())"
      ],
      "execution_count": 0,
      "outputs": [
        {
          "output_type": "stream",
          "text": [
            "MY_OTHERFILENAME\n"
          ],
          "name": "stdout"
        }
      ]
    },
    {
      "metadata": {
        "id": "pUT8z4bdw6RU",
        "colab_type": "text"
      },
      "cell_type": "markdown",
      "source": [
        "How long is the filename (number of characters)?"
      ]
    },
    {
      "metadata": {
        "id": "Tb7fxFtGxAhX",
        "colab_type": "code",
        "outputId": "b323ccb7-3985-4685-c83d-7f35eeca2f0b",
        "colab": {
          "base_uri": "https://localhost:8080/",
          "height": 34
        }
      },
      "cell_type": "code",
      "source": [
        "len(filename)"
      ],
      "execution_count": 0,
      "outputs": [
        {
          "output_type": "execute_result",
          "data": {
            "text/plain": [
              "16"
            ]
          },
          "metadata": {
            "tags": []
          },
          "execution_count": 18
        }
      ]
    },
    {
      "metadata": {
        "id": "-nr2_djxx2je",
        "colab_type": "text"
      },
      "cell_type": "markdown",
      "source": [
        "Join the filename with a new extension, '.txt'"
      ]
    },
    {
      "metadata": {
        "id": "THQHWm2ax8Ld",
        "colab_type": "code",
        "outputId": "5214685c-64c5-4ca9-f702-185024bab695",
        "colab": {
          "base_uri": "https://localhost:8080/",
          "height": 34
        }
      },
      "cell_type": "code",
      "source": [
        "filename + '.txt'"
      ],
      "execution_count": 0,
      "outputs": [
        {
          "output_type": "execute_result",
          "data": {
            "text/plain": [
              "'my_otherfilename.txt'"
            ]
          },
          "metadata": {
            "tags": []
          },
          "execution_count": 24
        }
      ]
    },
    {
      "metadata": {
        "id": "Ts3lBf0oy4bo",
        "colab_type": "text"
      },
      "cell_type": "markdown",
      "source": [
        "## Additional:"
      ]
    },
    {
      "metadata": {
        "id": "HxkI_yg1yZIb",
        "colab_type": "text"
      },
      "cell_type": "markdown",
      "source": [
        "Check if the filename contains the word 'other'"
      ]
    },
    {
      "metadata": {
        "id": "7QMKVcl7ygGO",
        "colab_type": "code",
        "outputId": "d2a23686-f227-464f-f8e4-6cdb0ccda0a9",
        "colab": {
          "base_uri": "https://localhost:8080/",
          "height": 34
        }
      },
      "cell_type": "code",
      "source": [
        "'other' in filename"
      ],
      "execution_count": 0,
      "outputs": [
        {
          "output_type": "execute_result",
          "data": {
            "text/plain": [
              "True"
            ]
          },
          "metadata": {
            "tags": []
          },
          "execution_count": 25
        }
      ]
    },
    {
      "metadata": {
        "id": "YCeH0KcYykJA",
        "colab_type": "text"
      },
      "cell_type": "markdown",
      "source": [
        "Check if the filename begins with 'myother'"
      ]
    },
    {
      "metadata": {
        "id": "XR0neB-Kyp5l",
        "colab_type": "code",
        "outputId": "6a37a060-278a-42c5-ce4d-c2c63eedce2b",
        "colab": {
          "base_uri": "https://localhost:8080/",
          "height": 34
        }
      },
      "cell_type": "code",
      "source": [
        "filename.startswith('myother')"
      ],
      "execution_count": 0,
      "outputs": [
        {
          "output_type": "execute_result",
          "data": {
            "text/plain": [
              "False"
            ]
          },
          "metadata": {
            "tags": []
          },
          "execution_count": 26
        }
      ]
    },
    {
      "metadata": {
        "id": "FtF4JYgxy9qj",
        "colab_type": "text"
      },
      "cell_type": "markdown",
      "source": [
        "Check if the first character of the filename is a number"
      ]
    },
    {
      "metadata": {
        "id": "GTY5MQz6zCrI",
        "colab_type": "code",
        "outputId": "7428abc6-b39c-4233-cbbc-89191ff87e39",
        "colab": {
          "base_uri": "https://localhost:8080/",
          "height": 34
        }
      },
      "cell_type": "code",
      "source": [
        "filename[0].isdigit()"
      ],
      "execution_count": 0,
      "outputs": [
        {
          "output_type": "execute_result",
          "data": {
            "text/plain": [
              "False"
            ]
          },
          "metadata": {
            "tags": []
          },
          "execution_count": 27
        }
      ]
    },
    {
      "metadata": {
        "id": "l-cJAtjYubVr",
        "colab_type": "text"
      },
      "cell_type": "markdown",
      "source": [
        "##Bonus: \n",
        "\n",
        "Create a string with the filepath C:\\Users\\12345.csv; replace the \\ with / and assign it to a variable called filepath"
      ]
    },
    {
      "metadata": {
        "id": "cYsy559t23Ew",
        "colab_type": "code",
        "outputId": "8f6e28bb-46fa-4427-ec11-ade455e420ec",
        "colab": {
          "base_uri": "https://localhost:8080/",
          "height": 34
        }
      },
      "cell_type": "code",
      "source": [
        "filepath = r'C:\\Users\\12345.csv'.replace('\\\\', '/')\n",
        "filepath"
      ],
      "execution_count": 0,
      "outputs": [
        {
          "output_type": "execute_result",
          "data": {
            "text/plain": [
              "'C:/Users/12345.csv'"
            ]
          },
          "metadata": {
            "tags": []
          },
          "execution_count": 4
        }
      ]
    },
    {
      "metadata": {
        "id": "IxVFaAqPwyp7",
        "colab_type": "text"
      },
      "cell_type": "markdown",
      "source": [
        "## String Cleaning"
      ]
    },
    {
      "metadata": {
        "id": "0FzjrMGuzQvm",
        "colab_type": "text"
      },
      "cell_type": "markdown",
      "source": [
        "Remove all white spaces before and after the string '     hello   hihi.  '"
      ]
    },
    {
      "metadata": {
        "id": "QHT2cSQ841sC",
        "colab_type": "code",
        "outputId": "b79dcebf-64b7-4040-e9c3-ea703ed78241",
        "colab": {
          "base_uri": "https://localhost:8080/",
          "height": 34
        }
      },
      "cell_type": "code",
      "source": [
        "'     hello   hihi.  '.strip()"
      ],
      "execution_count": 0,
      "outputs": [
        {
          "output_type": "execute_result",
          "data": {
            "text/plain": [
              "'hello   hihi.'"
            ]
          },
          "metadata": {
            "tags": []
          },
          "execution_count": 28
        }
      ]
    },
    {
      "metadata": {
        "id": "MHBnR_-izX-B",
        "colab_type": "text"
      },
      "cell_type": "markdown",
      "source": [
        "Remove all excess spaces from '     hello   hihi.  ' and return only 'hello hihi.'"
      ]
    },
    {
      "metadata": {
        "id": "EysBNhZJ4-_k",
        "colab_type": "code",
        "outputId": "a9ec013d-437d-431d-fac2-291c5d326fb5",
        "colab": {
          "base_uri": "https://localhost:8080/",
          "height": 34
        }
      },
      "cell_type": "code",
      "source": [
        "' '.join('     hello   hihi.  '.split())"
      ],
      "execution_count": 0,
      "outputs": [
        {
          "output_type": "execute_result",
          "data": {
            "text/plain": [
              "'hello hihi.'"
            ]
          },
          "metadata": {
            "tags": []
          },
          "execution_count": 29
        }
      ]
    },
    {
      "metadata": {
        "id": "Yzsgxqlk5tib",
        "colab_type": "text"
      },
      "cell_type": "markdown",
      "source": [
        "## **String Formatting**"
      ]
    },
    {
      "metadata": {
        "id": "-hMOyUVez-me",
        "colab_type": "text"
      },
      "cell_type": "markdown",
      "source": [
        "Create a variable with the string 'Jonathan', and call the variable name.\n",
        "\n",
        "Create another variable with the string 'Jon' and call the variable nickname.\n",
        "\n",
        "Print the following multiline string, substituting the variables \"name\" and \"nickname\" with the saved variables.\n",
        "  \n",
        "  \n",
        " Hi my name is \"name\".\n",
        "  \n",
        "You can call me \"nickname\"."
      ]
    },
    {
      "metadata": {
        "id": "k8fM6CeD5Vtg",
        "colab_type": "code",
        "outputId": "06a18ecd-9f20-457c-c7db-d96eba8c27a0",
        "colab": {
          "base_uri": "https://localhost:8080/",
          "height": 51
        }
      },
      "cell_type": "code",
      "source": [
        "name = 'Jonathan'\n",
        "nickname = 'Jon'\n",
        "print(f\"\"\"Hi my name is {name}.\n",
        "You can call me {nickname}.\"\"\")"
      ],
      "execution_count": 0,
      "outputs": [
        {
          "output_type": "stream",
          "text": [
            "Hi my name is Jonathan.\n",
            "You can call me Jon.\n"
          ],
          "name": "stdout"
        }
      ]
    },
    {
      "metadata": {
        "id": "tMnUkL-515JK",
        "colab_type": "text"
      },
      "cell_type": "markdown",
      "source": [
        "Format a number 1234567890 into a string with commas separating the thousands (i.e. '1,234,567,890')"
      ]
    },
    {
      "metadata": {
        "id": "IyFfD1iw6bcg",
        "colab_type": "code",
        "outputId": "2a9be66f-b0b8-4799-fe50-a086ac85eb7b",
        "colab": {
          "base_uri": "https://localhost:8080/",
          "height": 34
        }
      },
      "cell_type": "code",
      "source": [
        "'{:,}'.format(1234567890)"
      ],
      "execution_count": 0,
      "outputs": [
        {
          "output_type": "execute_result",
          "data": {
            "text/plain": [
              "'1,234,567,890'"
            ]
          },
          "metadata": {
            "tags": []
          },
          "execution_count": 35
        }
      ]
    },
    {
      "metadata": {
        "id": "Ofy0az1G2K9F",
        "colab_type": "text"
      },
      "cell_type": "markdown",
      "source": [
        "Format a number 0.012345 to two decimal places in percentage (i.e. 1.23%)"
      ]
    },
    {
      "metadata": {
        "id": "H6ODOf9Y2Pbg",
        "colab_type": "code",
        "outputId": "a811a8ba-00a6-4b6a-e485-543b6d5d93ab",
        "colab": {
          "base_uri": "https://localhost:8080/",
          "height": 34
        }
      },
      "cell_type": "code",
      "source": [
        "'{:.2%}'.format(0.012345)"
      ],
      "execution_count": 0,
      "outputs": [
        {
          "output_type": "execute_result",
          "data": {
            "text/plain": [
              "'1.23%'"
            ]
          },
          "metadata": {
            "tags": []
          },
          "execution_count": 38
        }
      ]
    },
    {
      "metadata": {
        "id": "iOOZCsVu0yBH",
        "colab_type": "text"
      },
      "cell_type": "markdown",
      "source": [
        "## Additional"
      ]
    },
    {
      "metadata": {
        "id": "8boKkt3V02hq",
        "colab_type": "text"
      },
      "cell_type": "markdown",
      "source": [
        "I have three strings 'me', 'i' and 'myself'.\n",
        "Output a string that says\n",
        "\n",
        "''me, myself and i\" using .format"
      ]
    },
    {
      "metadata": {
        "id": "nDVnyFMI5pi6",
        "colab_type": "code",
        "outputId": "cc67f642-fa1e-4044-a704-977cc003fbca",
        "colab": {
          "base_uri": "https://localhost:8080/",
          "height": 34
        }
      },
      "cell_type": "code",
      "source": [
        "'{0}, {2}, and {1}'.format('me', 'i', 'myself')"
      ],
      "execution_count": 0,
      "outputs": [
        {
          "output_type": "execute_result",
          "data": {
            "text/plain": [
              "'me, myself, and i'"
            ]
          },
          "metadata": {
            "tags": []
          },
          "execution_count": 34
        }
      ]
    },
    {
      "metadata": {
        "id": "3DhcY2XrvGvj",
        "colab_type": "text"
      },
      "cell_type": "markdown",
      "source": [
        "## Reading CSV"
      ]
    },
    {
      "metadata": {
        "id": "plqNSgyM2p_f",
        "colab_type": "text"
      },
      "cell_type": "markdown",
      "source": [
        "Read in the CSV file called 'base.csv' using pandas and assign it to a variable df\n",
        "\n"
      ]
    },
    {
      "metadata": {
        "id": "eT5j9xw9vJ4t",
        "colab_type": "code",
        "colab": {}
      },
      "cell_type": "code",
      "source": [
        "import pandas as pd\n",
        "df = pd.read_csv('base.csv')"
      ],
      "execution_count": 0,
      "outputs": []
    },
    {
      "metadata": {
        "id": "5IHJ0-Z13D9r",
        "colab_type": "text"
      },
      "cell_type": "markdown",
      "source": [
        "Read in the CSV file called 'pipe_csv.csv' which is pipe-delimited ('|'). \n",
        "\n",
        "Read only columns 'colA', 'colB', 'colY', 'colZ'.\n",
        "\n",
        "The datatype of colA should be a string."
      ]
    },
    {
      "metadata": {
        "id": "Y2ccI0SvvOaK",
        "colab_type": "code",
        "colab": {}
      },
      "cell_type": "code",
      "source": [
        "pd.read_csv('pipe_csv.csv', sep='|', usecols=['colA', 'colB', 'colY', 'colZ'], dtype={'colA':str}).head()"
      ],
      "execution_count": 0,
      "outputs": []
    },
    {
      "metadata": {
        "id": "qTFXsXmq3bWa",
        "colab_type": "text"
      },
      "cell_type": "markdown",
      "source": [
        "Read in the CSV file called 'tab_csv' which is tab-delimited.\n",
        "\n",
        "Skip the first row, and use these three names as the column names instead: ['col1', 'col2', 'col3'].\n",
        "\n",
        "Null values are denoted in this CSV as 'null_values'.\n",
        "\n",
        "Read into the dataframe only the first 10 rows of this file."
      ]
    },
    {
      "metadata": {
        "id": "0wsrnpBDwGRC",
        "colab_type": "code",
        "colab": {}
      },
      "cell_type": "code",
      "source": [
        "pd.read_csv('tab_csv.csv', delimiter='\\t', skiprows=1, usecols=[0,1,2], index_col=0, names=['col1', 'col2', 'col3'], \n",
        "            keep_default_na=False, na_values='null_values', nrows=10)"
      ],
      "execution_count": 0,
      "outputs": []
    },
    {
      "metadata": {
        "id": "lXxmkb2Ysj0w",
        "colab_type": "text"
      },
      "cell_type": "markdown",
      "source": [
        "## Global variables"
      ]
    },
    {
      "metadata": {
        "id": "BWnrImmwsMDn",
        "colab_type": "code",
        "outputId": "241593c7-bd3b-44cb-96df-e2d2f56329cb",
        "colab": {
          "base_uri": "https://localhost:8080/",
          "height": 68
        }
      },
      "cell_type": "code",
      "source": [
        "def change_local_x():\n",
        "  x = 10\n",
        "  print(f'local x is {x}')\n",
        "\n",
        "  \n",
        "x = 100 # global x\n",
        "print(f'global x is {x}')\n",
        "change_local_x()\n",
        "print(f'global x is still {x}')"
      ],
      "execution_count": 0,
      "outputs": [
        {
          "output_type": "stream",
          "text": [
            "global x is 100\n",
            "local x is 10\n",
            "global x is still 100\n"
          ],
          "name": "stdout"
        }
      ]
    },
    {
      "metadata": {
        "id": "uQsG6ve_snT-",
        "colab_type": "code",
        "outputId": "eebaaca5-ddc7-4561-eb85-d07e09af6968",
        "colab": {
          "base_uri": "https://localhost:8080/",
          "height": 68
        }
      },
      "cell_type": "code",
      "source": [
        "def change_global_x():\n",
        "  global x \n",
        "  x = 10\n",
        "  print(f'local x is {x}')\n",
        "\n",
        "  \n",
        "x = 100 # global x\n",
        "print(f'global x is {x}')\n",
        "change_global_x()\n",
        "print(f'global x is now {x}')"
      ],
      "execution_count": 0,
      "outputs": [
        {
          "output_type": "stream",
          "text": [
            "global x is 100\n",
            "local x is 10\n",
            "global x is now 10\n"
          ],
          "name": "stdout"
        }
      ]
    },
    {
      "metadata": {
        "id": "hJdRuUc1t3Zr",
        "colab_type": "code",
        "outputId": "2bccb931-e184-40d8-f0b4-685ff581b294",
        "colab": {
          "base_uri": "https://localhost:8080/",
          "height": 68
        }
      },
      "cell_type": "code",
      "source": [
        "def change_local_list(x):\n",
        "  x.append(11)\n",
        "  print(f'local x is {x}')\n",
        "\n",
        "  \n",
        "x = [10] # global x\n",
        "print(f'global x is {x}')\n",
        "change_local_list(x)\n",
        "print(f'global x has changed to {x}. Why?')"
      ],
      "execution_count": 0,
      "outputs": [
        {
          "output_type": "stream",
          "text": [
            "global x is [10]\n",
            "local x is [10, 11]\n",
            "global x has changed to [10, 11]. Why?\n"
          ],
          "name": "stdout"
        }
      ]
    },
    {
      "metadata": {
        "id": "PDnZbtUmuUPR",
        "colab_type": "code",
        "colab": {}
      },
      "cell_type": "code",
      "source": [
        ""
      ],
      "execution_count": 0,
      "outputs": []
    }
  ]
}