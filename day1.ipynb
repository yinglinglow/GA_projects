{
  "nbformat": 4,
  "nbformat_minor": 0,
  "metadata": {
    "colab": {
      "name": "day1.ipynb",
      "version": "0.3.2",
      "provenance": [],
      "collapsed_sections": [],
      "toc_visible": true,
      "include_colab_link": true
    },
    "kernelspec": {
      "name": "python3",
      "display_name": "Python 3"
    }
  },
  "cells": [
    {
      "cell_type": "markdown",
      "metadata": {
        "id": "view-in-github",
        "colab_type": "text"
      },
      "source": [
        "<a href=\"https://colab.research.google.com/github/yinglinglow/GA_projects/blob/master/day1.ipynb\" target=\"_parent\"><img src=\"https://colab.research.google.com/assets/colab-badge.svg\" alt=\"Open In Colab\"/></a>"
      ]
    },
    {
      "metadata": {
        "id": "zc7CyHF34GZ2",
        "colab_type": "text"
      },
      "cell_type": "markdown",
      "source": [
        "## **String Manipulation**"
      ]
    },
    {
      "metadata": {
        "id": "cYsy559t23Ew",
        "colab_type": "code",
        "colab": {
          "base_uri": "https://localhost:8080/",
          "height": 34
        },
        "outputId": "7c180c44-4658-445c-b52f-3670d3cba508"
      },
      "cell_type": "code",
      "source": [
        "r'C:\\Users\\12345.csv'.replace('\\\\', '/')"
      ],
      "execution_count": 3,
      "outputs": [
        {
          "output_type": "execute_result",
          "data": {
            "text/plain": [
              "'C:/Users/12345.csv'"
            ]
          },
          "metadata": {
            "tags": []
          },
          "execution_count": 3
        }
      ]
    },
    {
      "metadata": {
        "id": "zaL9l6Da39r5",
        "colab_type": "code",
        "colab": {
          "base_uri": "https://localhost:8080/",
          "height": 34
        },
        "outputId": "e48500b7-e48a-4705-a09e-3b3967110157"
      },
      "cell_type": "code",
      "source": [
        "'C:/Users/12345.csv'.split('/')[2][:-4]"
      ],
      "execution_count": 4,
      "outputs": [
        {
          "output_type": "execute_result",
          "data": {
            "text/plain": [
              "'12345'"
            ]
          },
          "metadata": {
            "tags": []
          },
          "execution_count": 4
        }
      ]
    },
    {
      "metadata": {
        "id": "BLp4tu3Q4BGA",
        "colab_type": "code",
        "colab": {
          "base_uri": "https://localhost:8080/",
          "height": 34
        },
        "outputId": "996f4e77-503a-4594-cbdd-05ff68b99fb6"
      },
      "cell_type": "code",
      "source": [
        "'12345' + '.csv'.upper()"
      ],
      "execution_count": 9,
      "outputs": [
        {
          "output_type": "execute_result",
          "data": {
            "text/plain": [
              "'12345.CSV'"
            ]
          },
          "metadata": {
            "tags": []
          },
          "execution_count": 9
        }
      ]
    },
    {
      "metadata": {
        "id": "QHT2cSQ841sC",
        "colab_type": "code",
        "colab": {
          "base_uri": "https://localhost:8080/",
          "height": 34
        },
        "outputId": "591fe507-2d5b-40d0-d079-fd1510f7e2d2"
      },
      "cell_type": "code",
      "source": [
        "'     hello   hihi.  '.strip()"
      ],
      "execution_count": 7,
      "outputs": [
        {
          "output_type": "execute_result",
          "data": {
            "text/plain": [
              "'hello   hihi.'"
            ]
          },
          "metadata": {
            "tags": []
          },
          "execution_count": 7
        }
      ]
    },
    {
      "metadata": {
        "id": "EysBNhZJ4-_k",
        "colab_type": "code",
        "colab": {
          "base_uri": "https://localhost:8080/",
          "height": 34
        },
        "outputId": "be678bd9-e005-4851-cce5-164043ee08ac"
      },
      "cell_type": "code",
      "source": [
        "' '.join('     hello   hihi.  '.split())"
      ],
      "execution_count": 11,
      "outputs": [
        {
          "output_type": "execute_result",
          "data": {
            "text/plain": [
              "'hello hihi.'"
            ]
          },
          "metadata": {
            "tags": []
          },
          "execution_count": 11
        }
      ]
    },
    {
      "metadata": {
        "id": "Yzsgxqlk5tib",
        "colab_type": "text"
      },
      "cell_type": "markdown",
      "source": [
        "## **String Formatting**"
      ]
    },
    {
      "metadata": {
        "id": "k8fM6CeD5Vtg",
        "colab_type": "code",
        "colab": {
          "base_uri": "https://localhost:8080/",
          "height": 51
        },
        "outputId": "447f2306-0132-44e5-befe-0e57838b2477"
      },
      "cell_type": "code",
      "source": [
        "name = 'Jonathan'\n",
        "nickname = 'Jon'\n",
        "print(f\"\"\"Hi my name is {name}.\n",
        "You can call me {nickname}.\"\"\")"
      ],
      "execution_count": 13,
      "outputs": [
        {
          "output_type": "stream",
          "text": [
            "Hi my name is Jonathan.\n",
            "You can call me Jon.\n"
          ],
          "name": "stdout"
        }
      ]
    },
    {
      "metadata": {
        "id": "nDVnyFMI5pi6",
        "colab_type": "code",
        "colab": {
          "base_uri": "https://localhost:8080/",
          "height": 34
        },
        "outputId": "c891f1ba-d4bc-44a6-ab80-b815ffc96db9"
      },
      "cell_type": "code",
      "source": [
        "'{2}, {1}, {0}'.format('a', 'b', 'c')"
      ],
      "execution_count": 14,
      "outputs": [
        {
          "output_type": "execute_result",
          "data": {
            "text/plain": [
              "'c, b, a'"
            ]
          },
          "metadata": {
            "tags": []
          },
          "execution_count": 14
        }
      ]
    },
    {
      "metadata": {
        "id": "IyFfD1iw6bcg",
        "colab_type": "code",
        "colab": {
          "base_uri": "https://localhost:8080/",
          "height": 34
        },
        "outputId": "9dbb50f5-b706-4d33-da3d-b8cd6ddc6d1f"
      },
      "cell_type": "code",
      "source": [
        "'{:,}'.format(1234567890)"
      ],
      "execution_count": 15,
      "outputs": [
        {
          "output_type": "execute_result",
          "data": {
            "text/plain": [
              "'1,234,567,890'"
            ]
          },
          "metadata": {
            "tags": []
          },
          "execution_count": 15
        }
      ]
    },
    {
      "metadata": {
        "id": "XKRCOkpu6gcW",
        "colab_type": "code",
        "colab": {
          "base_uri": "https://localhost:8080/",
          "height": 34
        },
        "outputId": "9606139a-5893-4670-8e61-2d605a52f855"
      },
      "cell_type": "code",
      "source": [
        "'two decimal places percentage: {:.2%}'.format(0.012345)"
      ],
      "execution_count": 17,
      "outputs": [
        {
          "output_type": "execute_result",
          "data": {
            "text/plain": [
              "'two decimal places percentage: 1.23%'"
            ]
          },
          "metadata": {
            "tags": []
          },
          "execution_count": 17
        }
      ]
    },
    {
      "metadata": {
        "id": "4SydCmqq6qjB",
        "colab_type": "code",
        "colab": {}
      },
      "cell_type": "code",
      "source": [
        ""
      ],
      "execution_count": 0,
      "outputs": []
    }
  ]
}