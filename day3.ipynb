{
  "nbformat": 4,
  "nbformat_minor": 0,
  "metadata": {
    "colab": {
      "name": "day3.ipynb",
      "version": "0.3.2",
      "provenance": [],
      "include_colab_link": true
    },
    "kernelspec": {
      "name": "python3",
      "display_name": "Python 3"
    }
  },
  "cells": [
    {
      "cell_type": "markdown",
      "metadata": {
        "id": "view-in-github",
        "colab_type": "text"
      },
      "source": [
        "<a href=\"https://colab.research.google.com/github/yinglinglow/GA_projects/blob/master/day3.ipynb\" target=\"_parent\"><img src=\"https://colab.research.google.com/assets/colab-badge.svg\" alt=\"Open In Colab\"/></a>"
      ]
    },
    {
      "metadata": {
        "id": "0dIWo6MJ7zZd",
        "colab_type": "text"
      },
      "cell_type": "markdown",
      "source": [
        "## Lists"
      ]
    },
    {
      "metadata": {
        "id": "wNnnmF1x8Ae4",
        "colab_type": "text"
      },
      "cell_type": "markdown",
      "source": [
        "Create a list of tickers in the order of: AAPL, ADBE, IBM.\n",
        "\n",
        "Print the first ticker in the list.\n",
        "\n",
        "Print the length of the list."
      ]
    },
    {
      "metadata": {
        "id": "BumlcnUK71fV",
        "colab_type": "code",
        "colab": {
          "base_uri": "https://localhost:8080/",
          "height": 51
        },
        "outputId": "a1c8e3cc-fd12-4e1f-9e38-4a6a1aa8a675"
      },
      "cell_type": "code",
      "source": [
        "tickers = [\"AAPL\", \"ADBE\", \"IBM\"]\n",
        "print(tickers[0])\n",
        "print(len(tickers))"
      ],
      "execution_count": 12,
      "outputs": [
        {
          "output_type": "stream",
          "text": [
            "AAPL\n",
            "3\n"
          ],
          "name": "stdout"
        }
      ]
    },
    {
      "metadata": {
        "id": "Ov8uE2rU8u9r",
        "colab_type": "text"
      },
      "cell_type": "markdown",
      "source": [
        "Add a new ticker ORCL to the end of the list"
      ]
    },
    {
      "metadata": {
        "id": "ku_Fo4jG82_E",
        "colab_type": "code",
        "colab": {
          "base_uri": "https://localhost:8080/",
          "height": 34
        },
        "outputId": "cb46d803-f357-419e-b63b-d4463324c2c8"
      },
      "cell_type": "code",
      "source": [
        "tickers.append('ORCL')\n",
        "tickers"
      ],
      "execution_count": 13,
      "outputs": [
        {
          "output_type": "execute_result",
          "data": {
            "text/plain": [
              "['AAPL', 'ADBE', 'IBM', 'ORCL']"
            ]
          },
          "metadata": {
            "tags": []
          },
          "execution_count": 13
        }
      ]
    },
    {
      "metadata": {
        "id": "edyddSRO8yH2",
        "colab_type": "text"
      },
      "cell_type": "markdown",
      "source": [
        "Create another list called additional_tickers, with GOOG and NFLX.\n",
        "Add the lists together to form a new list called full_tickers"
      ]
    },
    {
      "metadata": {
        "id": "TNN1nfqP-eav",
        "colab_type": "code",
        "colab": {
          "base_uri": "https://localhost:8080/",
          "height": 34
        },
        "outputId": "306ffa26-8968-456e-d1e8-9e68f16767e0"
      },
      "cell_type": "code",
      "source": [
        "additional_tickers = ['GOOG', 'NFLX']\n",
        "full_tickers = tickers + additional_tickers\n",
        "full_tickers"
      ],
      "execution_count": 14,
      "outputs": [
        {
          "output_type": "execute_result",
          "data": {
            "text/plain": [
              "['AAPL', 'ADBE', 'IBM', 'ORCL', 'GOOG', 'NFLX']"
            ]
          },
          "metadata": {
            "tags": []
          },
          "execution_count": 14
        }
      ]
    },
    {
      "metadata": {
        "id": "WQoVsiB3-d-Z",
        "colab_type": "text"
      },
      "cell_type": "markdown",
      "source": [
        ""
      ]
    },
    {
      "metadata": {
        "id": "sNBQr15P7UIk",
        "colab_type": "code",
        "colab": {}
      },
      "cell_type": "code",
      "source": [
        "- Lists\n",
        "- Loops\n",
        "- DataFrames Join\n",
        "- String Operations"
      ],
      "execution_count": 0,
      "outputs": []
    }
  ]
}